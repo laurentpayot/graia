{
 "cells": [
  {
   "cell_type": "markdown",
   "metadata": {},
   "source": [
    "# Graia MNIST digits example"
   ]
  },
  {
   "cell_type": "code",
   "execution_count": 1,
   "metadata": {},
   "outputs": [
    {
     "name": "stderr",
     "output_type": "stream",
     "text": [
      "2024-04-23 16:12:01.500384: I tensorflow/core/util/port.cc:113] oneDNN custom operations are on. You may see slightly different numerical results due to floating-point round-off errors from different computation orders. To turn them off, set the environment variable `TF_ENABLE_ONEDNN_OPTS=0`.\n",
      "2024-04-23 16:12:01.500583: I external/local_tsl/tsl/cuda/cudart_stub.cc:32] Could not find cuda drivers on your machine, GPU will not be used.\n",
      "2024-04-23 16:12:01.502709: I external/local_tsl/tsl/cuda/cudart_stub.cc:32] Could not find cuda drivers on your machine, GPU will not be used.\n",
      "2024-04-23 16:12:01.528671: I tensorflow/core/platform/cpu_feature_guard.cc:210] This TensorFlow binary is optimized to use available CPU instructions in performance-critical operations.\n",
      "To enable the following instructions: AVX2 AVX_VNNI FMA, in other operations, rebuild TensorFlow with the appropriate compiler flags.\n",
      "2024-04-23 16:12:02.060720: W tensorflow/compiler/tf2tensorrt/utils/py_utils.cc:38] TF-TRT Warning: Could not find TensorRT\n"
     ]
    }
   ],
   "source": [
    "# %pip install numpy\n",
    "# %pip install matplotlib\n",
    "import numpy as np\n",
    "import matplotlib.pyplot as plt\n",
    "\n",
    "# to get the MNIST digits\n",
    "# %pip install tensorflow\n",
    "import tensorflow as tf\n",
    "import tensorflow.keras"
   ]
  },
  {
   "cell_type": "code",
   "execution_count": 2,
   "metadata": {},
   "outputs": [
    {
     "name": "stdout",
     "output_type": "stream",
     "text": [
      "🌄 Graia v0.0.1\n"
     ]
    }
   ],
   "source": [
    "# Graia\n",
    "# %pip install pyopencl\n",
    "# %pip install pocl-binary-distribution\n",
    "# %pip install futhark-ffi\n",
    "from graia import Graia"
   ]
  },
  {
   "cell_type": "code",
   "execution_count": 3,
   "metadata": {},
   "outputs": [],
   "source": [
    "mnist = tf.keras.datasets.mnist\n",
    "(train_images, train_labels), (test_images, test_labels) = mnist.load_data()\n",
    "\n",
    "# print(train_labels[0])\n",
    "# plt.imshow(train_images[0])"
   ]
  },
  {
   "cell_type": "code",
   "execution_count": 4,
   "metadata": {},
   "outputs": [],
   "source": [
    "N = 6000\n",
    "train_images = train_images[:N]\n",
    "train_labels = train_labels[:N]\n",
    "train_images = train_images.reshape(N, 28*28)"
   ]
  },
  {
   "cell_type": "code",
   "execution_count": 5,
   "metadata": {},
   "outputs": [
    {
     "name": "stdout",
     "output_type": "stream",
     "text": [
      "🌄 Graia model with 12,960 parameters ready.\n"
     ]
    }
   ],
   "source": [
    "model = Graia(inputs=28*28, layer_nodes=16, layers=2, outputs=10, boost=127, seed=37)\n",
    "# plt.imshow(model.hidden_weights[0])\n",
    "# print(model.hidden_weights[0])"
   ]
  },
  {
   "cell_type": "code",
   "execution_count": 6,
   "metadata": {},
   "outputs": [
    {
     "name": "stdout",
     "output_type": "stream",
     "text": [
      "Epoch 1/5: accuracy 10.367%\n",
      "Epoch 2/5: accuracy 9.617%\n",
      "Epoch 3/5: accuracy 9.467%\n",
      "Epoch 4/5: accuracy 10.583%\n",
      "Epoch 5/5: accuracy 10.483%\n"
     ]
    }
   ],
   "source": [
    "model.fit(train_images, train_labels, epochs=5)\n"
   ]
  },
  {
   "cell_type": "code",
   "execution_count": 7,
   "metadata": {},
   "outputs": [
    {
     "name": "stdout",
     "output_type": "stream",
     "text": [
      "\n",
      " [[-8  5  5 ... -7  5  8]\n",
      " [-4 -6  7 ... -4 -4  5]] ...\n",
      "\n",
      " [[ 5  7  5  5  5  5 -5  8  5  5  6  8 -5 -7 -6  5]\n",
      " [ 5  7  5  5 -3 -6 -4 -6  8 -6 -6 -5  5 -7  7 -5]\n",
      " [ 5 -5 -6 -8  5 -6 -4  5  7 -4 -5  5 -5 -8  5  5]\n",
      " [-4  8  6  5 -5 -3  5  8 -6  5 -7 -7  5  8 -8  6]\n",
      " [ 6 -3 -4  6  6 -3 -4 -8  6  6  6  7  6 -4 -3  6]\n",
      " [ 6  5  5  7 -6 -5  5  8  5  5  8 -7  6  7 -7 -7]\n",
      " [-4  5 -5  5 -6 -8  6  5  5  5 -4  5  5  6  5 -6]\n",
      " [-5  5 -4  5 -8  5  7 -8  6  5  5 -7  5  5 -4 -8]\n",
      " [-6  7  7 -4  8 -4  5  7  6  6 -4 -6  5  6  8  5]\n",
      " [-7 -8 -7  5  5 -5  5  7  5  6 -5  5  5 -6  8  5]\n",
      " [ 5 -7  5 -8  8 -4  5  5 -8 -4 -5  7  5 -4  5  5]\n",
      " [ 8  5  5  6  5  6 -5 -5 -7 -8  8  8 -7 -7  6 -7]\n",
      " [-4  5 -4 -7  5  6  5  7  5 -4 -6  5 -6 -4 -8  5]\n",
      " [ 5  5 -5 -6  5 -6 -7 -6  7 -5  5  5 -7  5  5 -7]\n",
      " [-4 -7  5  5  8  5  5 -8  6  8  5  5 -4 -4  5 -7]\n",
      " [-7  5  8 -8  7  5 -8  5  5  5 -4  5 -8  8 -7 -5]]\n",
      "\n",
      " [[ 5  5 -7  5 -5  5  5 -5  6  5 -8  5  5  5  5 -5]\n",
      " [ 7  7 -8 -7 -7  7  7 -8 -5 -6 -5  7  7  7 -8  7]] ...\n"
     ]
    }
   ],
   "source": [
    "print(\"\\n\", model.input_weights[:2], \"...\")\n",
    "print(\"\\n\", model.hidden_weights[0])\n",
    "print(\"\\n\", model.output_weights[:2], \"...\")\n"
   ]
  },
  {
   "cell_type": "code",
   "execution_count": 8,
   "metadata": {},
   "outputs": [
    {
     "name": "stdout",
     "output_type": "stream",
     "text": [
      "\n",
      " [ 65   0   0   0  96  91   0 102   0 117   0  92 100 130  25  62]\n"
     ]
    },
    {
     "data": {
      "image/png": "[encoded data removed]",
      "text/plain": [
       "<Figure size 1000x300 with 2 Axes>"
      ]
     },
     "metadata": {},
     "output_type": "display_data"
    },
    {
     "name": "stdout",
     "output_type": "stream",
     "text": [
      "\n",
      " [182  31 255 230 254 142 134  31 206 230]\n"
     ]
    }
   ],
   "source": [
    "plt.figure(figsize = (10,3))\n",
    "plt.imshow(model.last_intermediate_outputs, cmap=\"grey\")\n",
    "plt.colorbar(orientation=\"horizontal\")\n",
    "print(\"\\n\", model.last_intermediate_outputs[0])\n",
    "plt.show()\n",
    "print(\"\\n\", model.last_outputs)"
   ]
  }
 ],
 "metadata": {
  "kernelspec": {
   "display_name": "base",
   "language": "python",
   "name": "python3"
  },
  "language_info": {
   "codemirror_mode": {
    "name": "ipython",
    "version": 3
   },
   "file_extension": ".py",
   "mimetype": "text/x-python",
   "name": "python",
   "nbconvert_exporter": "python",
   "pygments_lexer": "ipython3",
   "version": "3.11.7"
  }
 },
 "nbformat": 4,
 "nbformat_minor": 2
}
