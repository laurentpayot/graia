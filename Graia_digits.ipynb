{
 "cells": [
  {
   "cell_type": "markdown",
   "metadata": {},
   "source": [
    "# Graia MNIST digits example"
   ]
  },
  {
   "cell_type": "code",
   "execution_count": 1,
   "metadata": {},
   "outputs": [
    {
     "name": "stderr",
     "output_type": "stream",
     "text": [
      "2024-04-01 03:57:23.376883: I tensorflow/core/util/port.cc:113] oneDNN custom operations are on. You may see slightly different numerical results due to floating-point round-off errors from different computation orders. To turn them off, set the environment variable `TF_ENABLE_ONEDNN_OPTS=0`.\n",
      "2024-04-01 03:57:23.377049: I external/local_tsl/tsl/cuda/cudart_stub.cc:32] Could not find cuda drivers on your machine, GPU will not be used.\n",
      "2024-04-01 03:57:23.379395: I external/local_tsl/tsl/cuda/cudart_stub.cc:32] Could not find cuda drivers on your machine, GPU will not be used.\n",
      "2024-04-01 03:57:23.406142: I tensorflow/core/platform/cpu_feature_guard.cc:210] This TensorFlow binary is optimized to use available CPU instructions in performance-critical operations.\n",
      "To enable the following instructions: AVX2 AVX_VNNI FMA, in other operations, rebuild TensorFlow with the appropriate compiler flags.\n",
      "2024-04-01 03:57:23.947459: W tensorflow/compiler/tf2tensorrt/utils/py_utils.cc:38] TF-TRT Warning: Could not find TensorRT\n"
     ]
    }
   ],
   "source": [
    "# %pip install numpy\n",
    "# %pip install matplotlib\n",
    "import numpy as np\n",
    "import matplotlib.pyplot as plt\n",
    "\n",
    "# to get the MNIST digits\n",
    "# %pip install tensorflow\n",
    "import tensorflow as tf\n",
    "import tensorflow.keras"
   ]
  },
  {
   "cell_type": "code",
   "execution_count": 2,
   "metadata": {},
   "outputs": [
    {
     "name": "stdout",
     "output_type": "stream",
     "text": [
      "\n",
      "🌄 Graia v0.0.1\n",
      "\n",
      "Graia initializing…\n",
      "Graia ready.\n",
      "\n"
     ]
    }
   ],
   "source": [
    "# Graia\n",
    "# %pip install pyopencl\n",
    "# %pip install pocl-binary-distribution\n",
    "# %pip install futhark-ffi\n",
    "from graia import Graia"
   ]
  },
  {
   "cell_type": "code",
   "execution_count": 3,
   "metadata": {},
   "outputs": [],
   "source": [
    "mnist = tf.keras.datasets.mnist\n",
    "(train_images, train_labels), (test_images, test_labels) = mnist.load_data()\n",
    "\n",
    "# print(train_labels[0])\n",
    "# plt.imshow(train_images[0])"
   ]
  },
  {
   "cell_type": "code",
   "execution_count": 4,
   "metadata": {},
   "outputs": [],
   "source": [
    "N = 10\n",
    "train_images = train_images[:N]\n",
    "train_labels = train_labels[:N]\n",
    "train_images = train_images.reshape(N, 28*28)"
   ]
  },
  {
   "cell_type": "code",
   "execution_count": 5,
   "metadata": {},
   "outputs": [
    {
     "name": "stdout",
     "output_type": "stream",
     "text": [
      "(16, 784)  ->  (1, 16, 16)  ->  (10, 16)\n",
      "Graia model with 12960 random parameters instantiated.\n"
     ]
    }
   ],
   "source": [
    "model = Graia(inputs=28*28, layer_nodes=16, layers=2, outputs=10, seed=37)\n",
    "# plt.imshow(model.hidden_weights[0])\n",
    "# print(model.hidden_weights[0])"
   ]
  },
  {
   "cell_type": "code",
   "execution_count": 6,
   "metadata": {},
   "outputs": [
    {
     "name": "stdout",
     "output_type": "stream",
     "text": [
      "Epoch 1/1: correct = 2\n",
      "\n",
      " [[-8  8 -8 ...  8 -8  8]\n",
      " [-8 -8 -8 ... -8 -8  8]\n",
      " [ 8  8  8 ...  8 -8  8]\n",
      " ...\n",
      " [ 8  8  8 ... -8  8 -8]\n",
      " [ 8  8 -8 ...  8  8 -8]\n",
      " [-8  8 -8 ...  8 -8 -8]]\n",
      "\n",
      " [[-8 -8 -8  8  8  8 -8  8  8 -8  8  8  8  8 -8 -8]\n",
      " [ 8 -8 -8  8 -8 -8 -8 -8  8 -8 -8  8  8  8 -8  8]\n",
      " [ 8  8 -8 -8 -8 -8 -8  8 -8 -8  8 -8  8 -8 -8 -8]\n",
      " [-8  8  8  8  8  8 -8  8 -8  8  8  8 -8  8 -8  8]\n",
      " [ 8  8 -8  8 -8 -8 -8 -8  8  8  8 -8  8 -8 -8  8]\n",
      " [ 8 -8 -8 -8 -8 -8  8  8  8  8  8  8  8 -8  8  8]\n",
      " [-8 -8  8  8 -8 -8  8 -8  8  8 -8 -8  8  8 -8 -8]\n",
      " [ 8 -8 -8  8 -8  8 -8 -8  8 -8  8  8  8 -8 -8 -8]\n",
      " [-8 -8 -8 -8  8 -8  8 -8  8  8 -8 -8  8  8  8  8]\n",
      " [ 8 -8  8 -8 -8 -8 -8 -8  8  8 -8  8  8 -8  8 -8]\n",
      " [ 8  8  8 -8  8 -8 -8 -8 -8 -8  8 -8  8 -8  8  8]\n",
      " [ 8  8 -8  8  8  8 -8 -8  8 -8  8  8  8  8  8  8]\n",
      " [-8  8 -8  8 -8  8  8 -8  8 -8 -8  8 -8 -8 -8  8]\n",
      " [-8 -8 -8 -8 -8 -8  8 -8 -8 -8  8  8  8  8  8  8]\n",
      " [ 8  8  8  8  8  8 -8 -8  8  8  8  8  8 -8  8  8]\n",
      " [ 8 -8  8 -8 -8  8 -8 -8  8  8 -8  8 -8  8  8  8]]\n",
      "\n",
      " [[ 8 -8  8  8 -8  8 -8  8  8 -8 -8 -8  8  8 -8 -8]\n",
      " [-8  8 -8  8  8  8  8 -8  8 -8 -8 -8 -8 -8 -8  8]\n",
      " [-8 -8 -8 -8 -8 -8 -8 -8 -8 -8 -8  8  8  8  8  8]\n",
      " [-8  8 -8  8  8 -8 -8  8 -8  8  8  8  8  8  8 -8]\n",
      " [-8  8  8 -8  8 -8  8 -8  8 -8  8 -8  8 -8  8 -8]\n",
      " [ 8  8 -8  8 -8  8  8 -8  8 -8 -8 -8 -8  8  8 -8]\n",
      " [-8  8 -8 -8 -8  8  8 -8 -8  8 -8  8 -8 -8 -8 -8]\n",
      " [-8  8  8  8  8  8  8 -8  8  8 -8  8 -8 -8  8  8]\n",
      " [-8 -8  8 -8  8  8  8 -8 -8  8 -8 -8  8  8 -8 -8]\n",
      " [-8  8  8  8  8  8 -8  8  8 -8 -8  8 -8 -8  8  8]]\n"
     ]
    }
   ],
   "source": [
    "model.fit(train_images, train_labels, epochs=1)\n",
    "# plt.imshow(model.hidden_weights[0])\n",
    "print(\"\\n\", model.input_weights[0][:16])\n",
    "print(\"\\n\", model.hidden_weights[0])\n",
    "print(\"\\n\", model.output_weights)\n"
   ]
  },
  {
   "cell_type": "code",
   "execution_count": 7,
   "metadata": {},
   "outputs": [
    {
     "name": "stdout",
     "output_type": "stream",
     "text": [
      "[0 0 0 0 0 0 0 0 0 0]\n"
     ]
    },
    {
     "data": {
      "image/png": "[encoded data removed]",
      "text/plain": [
       "<Figure size 640x480 with 1 Axes>"
      ]
     },
     "metadata": {},
     "output_type": "display_data"
    }
   ],
   "source": [
    "plt.imshow([model.last_outputs])\n",
    "print(model.last_outputs)"
   ]
  }
 ],
 "metadata": {
  "kernelspec": {
   "display_name": "base",
   "language": "python",
   "name": "python3"
  },
  "language_info": {
   "codemirror_mode": {
    "name": "ipython",
    "version": 3
   },
   "file_extension": ".py",
   "mimetype": "text/x-python",
   "name": "python",
   "nbconvert_exporter": "python",
   "pygments_lexer": "ipython3",
   "version": "3.11.7"
  }
 },
 "nbformat": 4,
 "nbformat_minor": 2
}
