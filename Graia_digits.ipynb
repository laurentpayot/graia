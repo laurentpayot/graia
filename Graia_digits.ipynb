{
 "cells": [
  {
   "cell_type": "markdown",
   "metadata": {},
   "source": [
    "# Graia MNIST digits example"
   ]
  },
  {
   "cell_type": "code",
   "execution_count": 1,
   "metadata": {},
   "outputs": [
    {
     "name": "stderr",
     "output_type": "stream",
     "text": [
      "2024-03-22 23:46:18.558627: I tensorflow/core/util/port.cc:113] oneDNN custom operations are on. You may see slightly different numerical results due to floating-point round-off errors from different computation orders. To turn them off, set the environment variable `TF_ENABLE_ONEDNN_OPTS=0`.\n",
      "2024-03-22 23:46:18.558812: I external/local_tsl/tsl/cuda/cudart_stub.cc:32] Could not find cuda drivers on your machine, GPU will not be used.\n",
      "2024-03-22 23:46:18.561208: I external/local_tsl/tsl/cuda/cudart_stub.cc:32] Could not find cuda drivers on your machine, GPU will not be used.\n",
      "2024-03-22 23:46:18.586987: I tensorflow/core/platform/cpu_feature_guard.cc:210] This TensorFlow binary is optimized to use available CPU instructions in performance-critical operations.\n",
      "To enable the following instructions: AVX2 AVX_VNNI FMA, in other operations, rebuild TensorFlow with the appropriate compiler flags.\n",
      "2024-03-22 23:46:19.136672: W tensorflow/compiler/tf2tensorrt/utils/py_utils.cc:38] TF-TRT Warning: Could not find TensorRT\n"
     ]
    },
    {
     "name": "stdout",
     "output_type": "stream",
     "text": [
      "\n",
      "🌄 Graia v0.0.1\n",
      "\n",
      "Graia initializing…\n",
      "Graia ready.\n",
      "\n"
     ]
    }
   ],
   "source": [
    "# %pip install numpy\n",
    "# %pip install matplotlib\n",
    "import numpy as np\n",
    "import matplotlib.pyplot as plt\n",
    "\n",
    "# to get the MNIST digits\n",
    "# %pip install tensorflow\n",
    "import tensorflow as tf\n",
    "import tensorflow.keras\n",
    "\n",
    "# Graia\n",
    "# %pip install pyopencl\n",
    "# %pip install pocl-binary-distribution\n",
    "from graia import Graia"
   ]
  },
  {
   "cell_type": "code",
   "execution_count": 2,
   "metadata": {},
   "outputs": [],
   "source": [
    "mnist = tf.keras.datasets.mnist\n",
    "(train_images, train_labels), (test_images, test_labels) = mnist.load_data()\n",
    "\n",
    "# print(train_labels[0])\n",
    "# plt.imshow(train_images[0])"
   ]
  },
  {
   "cell_type": "code",
   "execution_count": 3,
   "metadata": {},
   "outputs": [
    {
     "data": {
      "text/plain": [
       "numpy.uint8"
      ]
     },
     "execution_count": 3,
     "metadata": {},
     "output_type": "execute_result"
    }
   ],
   "source": [
    "type(train_labels[0])"
   ]
  },
  {
   "cell_type": "code",
   "execution_count": 4,
   "metadata": {},
   "outputs": [
    {
     "data": {
      "text/plain": [
       "(60000, 28, 28)"
      ]
     },
     "execution_count": 4,
     "metadata": {},
     "output_type": "execute_result"
    }
   ],
   "source": [
    "train_images.shape"
   ]
  },
  {
   "cell_type": "code",
   "execution_count": 5,
   "metadata": {},
   "outputs": [],
   "source": [
    "train_images = train_images.reshape(60000, 28*28)"
   ]
  },
  {
   "cell_type": "code",
   "execution_count": 6,
   "metadata": {},
   "outputs": [
    {
     "data": {
      "text/plain": [
       "(60000, 784)"
      ]
     },
     "execution_count": 6,
     "metadata": {},
     "output_type": "execute_result"
    }
   ],
   "source": [
    "train_images.shape"
   ]
  },
  {
   "cell_type": "code",
   "execution_count": 7,
   "metadata": {},
   "outputs": [
    {
     "name": "stdout",
     "output_type": "stream",
     "text": [
      "(128, 784)  ->  (2, 128, 128)  ->  (10, 128)\n",
      "Graia model with 134400 random parameters instantiated.\n"
     ]
    }
   ],
   "source": [
    "model = Graia(inputs=28*28, layer_nodes=128, layers=3, outputs=10)"
   ]
  },
  {
   "cell_type": "code",
   "execution_count": 8,
   "metadata": {},
   "outputs": [
    {
     "name": "stdout",
     "output_type": "stream",
     "text": [
      "Epoch 1/5: correct = 6427\n",
      "Epoch 2/5: correct = 5923\n"
     ]
    },
    {
     "ename": "KeyboardInterrupt",
     "evalue": "",
     "output_type": "error",
     "traceback": [
      "\u001b[0;31m---------------------------------------------------------------------------\u001b[0m",
      "\u001b[0;31mKeyboardInterrupt\u001b[0m                         Traceback (most recent call last)",
      "Cell \u001b[0;32mIn[8], line 1\u001b[0m\n\u001b[0;32m----> 1\u001b[0m model\u001b[38;5;241m.\u001b[39mfit(train_images, train_labels, epochs\u001b[38;5;241m=\u001b[39m\u001b[38;5;241m5\u001b[39m)\n",
      "File \u001b[0;32m~/projects/graia/graia.py:90\u001b[0m, in \u001b[0;36mGraia.fit\u001b[0;34m(self, xs, ys, epochs, learning_step)\u001b[0m\n\u001b[1;32m     81\u001b[0m \u001b[38;5;28;01mdef\u001b[39;00m \u001b[38;5;21mfit\u001b[39m(\n\u001b[1;32m     82\u001b[0m     \u001b[38;5;28mself\u001b[39m,\n\u001b[1;32m     83\u001b[0m     xs: NDArray[InputVal],\n\u001b[0;32m   (...)\u001b[0m\n\u001b[1;32m     86\u001b[0m     learning_step\u001b[38;5;241m=\u001b[39m\u001b[38;5;241m1\u001b[39m,  \u001b[38;5;66;03m# step of shift changes\u001b[39;00m\n\u001b[1;32m     87\u001b[0m ) \u001b[38;5;241m-\u001b[39m\u001b[38;5;241m>\u001b[39m \u001b[38;5;28;01mNone\u001b[39;00m:\n\u001b[1;32m     88\u001b[0m     \u001b[38;5;28;01mfor\u001b[39;00m epoch \u001b[38;5;129;01min\u001b[39;00m \u001b[38;5;28mrange\u001b[39m(\u001b[38;5;241m1\u001b[39m, epochs \u001b[38;5;241m+\u001b[39m \u001b[38;5;241m1\u001b[39m):\n\u001b[1;32m     89\u001b[0m         \u001b[38;5;28mself\u001b[39m\u001b[38;5;241m.\u001b[39minput_weights, \u001b[38;5;28mself\u001b[39m\u001b[38;5;241m.\u001b[39mhidden_weights, \u001b[38;5;28mself\u001b[39m\u001b[38;5;241m.\u001b[39moutput_weights, correct \u001b[38;5;241m=\u001b[39m (\n\u001b[0;32m---> 90\u001b[0m             g\u001b[38;5;241m.\u001b[39mfit(\n\u001b[1;32m     91\u001b[0m                 np\u001b[38;5;241m.\u001b[39mint8(\u001b[38;5;28mself\u001b[39m\u001b[38;5;241m.\u001b[39mconfig[\u001b[38;5;124m\"\u001b[39m\u001b[38;5;124mmax_weight\u001b[39m\u001b[38;5;124m\"\u001b[39m]),\n\u001b[1;32m     92\u001b[0m                 \u001b[38;5;28mself\u001b[39m\u001b[38;5;241m.\u001b[39minput_weights,\n\u001b[1;32m     93\u001b[0m                 \u001b[38;5;28mself\u001b[39m\u001b[38;5;241m.\u001b[39mhidden_weights,\n\u001b[1;32m     94\u001b[0m                 \u001b[38;5;28mself\u001b[39m\u001b[38;5;241m.\u001b[39moutput_weights,\n\u001b[1;32m     95\u001b[0m                 xs,\n\u001b[1;32m     96\u001b[0m                 ys,\n\u001b[1;32m     97\u001b[0m                 np\u001b[38;5;241m.\u001b[39mint8(learning_step),\n\u001b[1;32m     98\u001b[0m             )\n\u001b[1;32m     99\u001b[0m         )\n\u001b[1;32m    100\u001b[0m         \u001b[38;5;28mprint\u001b[39m(\u001b[38;5;124mf\u001b[39m\u001b[38;5;124m\"\u001b[39m\u001b[38;5;124mEpoch \u001b[39m\u001b[38;5;132;01m{\u001b[39;00mepoch\u001b[38;5;132;01m}\u001b[39;00m\u001b[38;5;124m/\u001b[39m\u001b[38;5;132;01m{\u001b[39;00mepochs\u001b[38;5;132;01m}\u001b[39;00m\u001b[38;5;124m: correct = \u001b[39m\u001b[38;5;132;01m{\u001b[39;00mcorrect\u001b[38;5;132;01m}\u001b[39;00m\u001b[38;5;124m\"\u001b[39m)\n",
      "File \u001b[0;32m~/projects/graia/lib/graia.py:9110\u001b[0m, in \u001b[0;36mgraia.fit\u001b[0;34m(self, maxWt_6679_ext, inputWts_mem_7807_ext, hiddenWts_mem_7808_ext, outputWts_mem_7809_ext, xs_mem_7810_ext, ys_mem_7811_ext, learningStep_6685_ext)\u001b[0m\n\u001b[1;32m   9108\u001b[0m time_start \u001b[38;5;241m=\u001b[39m time\u001b[38;5;241m.\u001b[39mtime()\n\u001b[1;32m   9109\u001b[0m \u001b[38;5;28;01mwith\u001b[39;00m np\u001b[38;5;241m.\u001b[39merrstate(divide\u001b[38;5;241m=\u001b[39m\u001b[38;5;124m\"\u001b[39m\u001b[38;5;124mignore\u001b[39m\u001b[38;5;124m\"\u001b[39m, over\u001b[38;5;241m=\u001b[39m\u001b[38;5;124m\"\u001b[39m\u001b[38;5;124mignore\u001b[39m\u001b[38;5;124m\"\u001b[39m, under\u001b[38;5;241m=\u001b[39m\u001b[38;5;124m\"\u001b[39m\u001b[38;5;124mignore\u001b[39m\u001b[38;5;124m\"\u001b[39m, invalid\u001b[38;5;241m=\u001b[39m\u001b[38;5;124m\"\u001b[39m\u001b[38;5;124mignore\u001b[39m\u001b[38;5;124m\"\u001b[39m):\n\u001b[0;32m-> 9110\u001b[0m   (mem_out_7925, mem_out_7926, mem_out_7927, prim_out_7928) \u001b[38;5;241m=\u001b[39m \u001b[38;5;28mself\u001b[39m\u001b[38;5;241m.\u001b[39mfuthark_entry_fit(inputWts_mem_7807, hiddenWts_mem_7808, outputWts_mem_7809, xs_mem_7810, ys_mem_7811, i_6674, n_6675, lmo_6676, o_6677, r_6678, maxWt_6679, learningStep_6685)\n\u001b[1;32m   9111\u001b[0m runtime \u001b[38;5;241m=\u001b[39m (\u001b[38;5;28mint\u001b[39m((time\u001b[38;5;241m.\u001b[39mtime() \u001b[38;5;241m*\u001b[39m \u001b[38;5;241m1000000\u001b[39m)) \u001b[38;5;241m-\u001b[39m \u001b[38;5;28mint\u001b[39m((time_start \u001b[38;5;241m*\u001b[39m \u001b[38;5;241m1000000\u001b[39m)))\n\u001b[1;32m   9112\u001b[0m sync(\u001b[38;5;28mself\u001b[39m)\n",
      "File \u001b[0;32m~/projects/graia/lib/graia.py:8922\u001b[0m, in \u001b[0;36mgraia.futhark_entry_fit\u001b[0;34m(self, inputWts_mem_7807, hiddenWts_mem_7808, outputWts_mem_7809, xs_mem_7810, ys_mem_7811, i_6674, n_6675, lmo_6676, o_6677, r_6678, maxWt_6679, learningStep_6685)\u001b[0m\n\u001b[1;32m   8920\u001b[0m mem_7871 \u001b[38;5;241m=\u001b[39m opencl_alloc(\u001b[38;5;28mself\u001b[39m, np\u001b[38;5;241m.\u001b[39mint64(\u001b[38;5;241m1\u001b[39m), \u001b[38;5;124m\"\u001b[39m\u001b[38;5;124mmem_7871\u001b[39m\u001b[38;5;124m\"\u001b[39m)\n\u001b[1;32m   8921\u001b[0m \u001b[38;5;28;01mif\u001b[39;00m ((\u001b[38;5;241m1\u001b[39m \u001b[38;5;241m*\u001b[39m (np\u001b[38;5;241m.\u001b[39mint64(np\u001b[38;5;241m.\u001b[39mint64(\u001b[38;5;241m1\u001b[39m)) \u001b[38;5;241m*\u001b[39m np\u001b[38;5;241m.\u001b[39mint64(\u001b[38;5;241m1\u001b[39m))) \u001b[38;5;241m!=\u001b[39m \u001b[38;5;241m0\u001b[39m):\n\u001b[0;32m-> 8922\u001b[0m   \u001b[38;5;28mself\u001b[39m\u001b[38;5;241m.\u001b[39mfitzigpuseq_8033_var\u001b[38;5;241m.\u001b[39mset_args(cl\u001b[38;5;241m.\u001b[39mLocalMemory(\u001b[38;5;28mmax\u001b[39m(np\u001b[38;5;241m.\u001b[39mint64(\u001b[38;5;241m0\u001b[39m), \u001b[38;5;241m1\u001b[39m)), \u001b[38;5;28mself\u001b[39m\u001b[38;5;241m.\u001b[39mglobal_failure, ct\u001b[38;5;241m.\u001b[39mc_int64(i_6939), mem_7863, mem_param_7866, mem_param_7869, mem_7870, mem_7871)\n\u001b[1;32m   8923\u001b[0m   cl\u001b[38;5;241m.\u001b[39menqueue_nd_range_kernel(\u001b[38;5;28mself\u001b[39m\u001b[38;5;241m.\u001b[39mqueue, \u001b[38;5;28mself\u001b[39m\u001b[38;5;241m.\u001b[39mfitzigpuseq_8033_var, ((np\u001b[38;5;241m.\u001b[39mint64(np\u001b[38;5;241m.\u001b[39mint64(\u001b[38;5;241m1\u001b[39m)) \u001b[38;5;241m*\u001b[39m np\u001b[38;5;241m.\u001b[39mint64(\u001b[38;5;241m1\u001b[39m)),), (np\u001b[38;5;241m.\u001b[39mint64(\u001b[38;5;241m1\u001b[39m),))\n\u001b[1;32m   8924\u001b[0m   \u001b[38;5;28;01mif\u001b[39;00m synchronous:\n",
      "\u001b[0;31mKeyboardInterrupt\u001b[0m: "
     ]
    }
   ],
   "source": [
    "model.fit(train_images, train_labels, epochs=5)"
   ]
  },
  {
   "cell_type": "code",
   "execution_count": null,
   "metadata": {},
   "outputs": [
    {
     "data": {
      "text/plain": [
       "cl.Array(-128, dtype=int8)"
      ]
     },
     "execution_count": 9,
     "metadata": {},
     "output_type": "execute_result"
    }
   ],
   "source": [
    "model.input_weights[0, 0]\n"
   ]
  },
  {
   "cell_type": "code",
   "execution_count": null,
   "metadata": {},
   "outputs": [
    {
     "data": {
      "text/plain": [
       "cl.Array(127, dtype=int8)"
      ]
     },
     "execution_count": 10,
     "metadata": {},
     "output_type": "execute_result"
    }
   ],
   "source": [
    "model.input_weights[10, 10]"
   ]
  },
  {
   "cell_type": "code",
   "execution_count": null,
   "metadata": {},
   "outputs": [],
   "source": []
  }
 ],
 "metadata": {
  "kernelspec": {
   "display_name": "base",
   "language": "python",
   "name": "python3"
  },
  "language_info": {
   "codemirror_mode": {
    "name": "ipython",
    "version": 3
   },
   "file_extension": ".py",
   "mimetype": "text/x-python",
   "name": "python",
   "nbconvert_exporter": "python",
   "pygments_lexer": "ipython3",
   "version": "3.11.7"
  }
 },
 "nbformat": 4,
 "nbformat_minor": 2
}
