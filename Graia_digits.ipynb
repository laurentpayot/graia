{
 "cells": [
  {
   "cell_type": "markdown",
   "metadata": {},
   "source": [
    "# Graia MNIST digits example"
   ]
  },
  {
   "cell_type": "code",
   "execution_count": 1,
   "metadata": {},
   "outputs": [
    {
     "name": "stderr",
     "output_type": "stream",
     "text": [
      "2024-04-02 19:33:04.953291: I external/local_tsl/tsl/cuda/cudart_stub.cc:32] Could not find cuda drivers on your machine, GPU will not be used.\n",
      "2024-04-02 19:33:04.955805: I external/local_tsl/tsl/cuda/cudart_stub.cc:32] Could not find cuda drivers on your machine, GPU will not be used.\n",
      "2024-04-02 19:33:04.988176: I tensorflow/core/platform/cpu_feature_guard.cc:210] This TensorFlow binary is optimized to use available CPU instructions in performance-critical operations.\n",
      "To enable the following instructions: AVX2 FMA, in other operations, rebuild TensorFlow with the appropriate compiler flags.\n",
      "2024-04-02 19:33:05.689183: W tensorflow/compiler/tf2tensorrt/utils/py_utils.cc:38] TF-TRT Warning: Could not find TensorRT\n"
     ]
    }
   ],
   "source": [
    "# %pip install numpy\n",
    "# %pip install matplotlib\n",
    "import numpy as np\n",
    "import matplotlib.pyplot as plt\n",
    "\n",
    "# to get the MNIST digits\n",
    "# %pip install tensorflow\n",
    "import tensorflow as tf\n",
    "import tensorflow.keras"
   ]
  },
  {
   "cell_type": "code",
   "execution_count": 2,
   "metadata": {},
   "outputs": [
    {
     "name": "stdout",
     "output_type": "stream",
     "text": [
      "\n",
      "🌄 Graia v0.0.1\n",
      "\n",
      "Graia initializing…\n",
      "Graia ready.\n",
      "\n"
     ]
    }
   ],
   "source": [
    "# Graia\n",
    "# %pip install pyopencl\n",
    "# %pip install pocl-binary-distribution\n",
    "# %pip install futhark-ffi\n",
    "from graia import Graia"
   ]
  },
  {
   "cell_type": "code",
   "execution_count": 3,
   "metadata": {},
   "outputs": [],
   "source": [
    "mnist = tf.keras.datasets.mnist\n",
    "(train_images, train_labels), (test_images, test_labels) = mnist.load_data()\n",
    "\n",
    "# print(train_labels[0])\n",
    "# plt.imshow(train_images[0])"
   ]
  },
  {
   "cell_type": "code",
   "execution_count": 4,
   "metadata": {},
   "outputs": [],
   "source": [
    "N = 100\n",
    "train_images = train_images[:N]\n",
    "train_labels = train_labels[:N]\n",
    "train_images = train_images.reshape(N, 28*28)"
   ]
  },
  {
   "cell_type": "code",
   "execution_count": 5,
   "metadata": {},
   "outputs": [
    {
     "name": "stdout",
     "output_type": "stream",
     "text": [
      "Graia model with 12960 random parameters instantiated.\n"
     ]
    }
   ],
   "source": [
    "model = Graia(inputs=28*28, layer_nodes=16, layers=2, outputs=10, seed=37)\n",
    "# plt.imshow(model.hidden_weights[0])\n",
    "# print(model.hidden_weights[0])"
   ]
  },
  {
   "cell_type": "code",
   "execution_count": 6,
   "metadata": {},
   "outputs": [
    {
     "name": "stdout",
     "output_type": "stream",
     "text": [
      "Epoch 1/3: accuracy 16.000%\n",
      "Epoch 2/3: accuracy 14.000%\n",
      "Epoch 3/3: accuracy 14.000%\n",
      "\n",
      " [[-1  1 -1  1  1  1 -1  1  1  1 -1  1 -1 -1 -1  1]\n",
      " [ 1  1  1  1 -1 -1 -1 -1  1 -1 -1 -1  1 -1  1 -1]\n",
      " [ 1 -1 -1 -1 -1 -1 -1  1  1 -1 -1  1 -1 -1  1  1]\n",
      " [-1 -1  1  1 -1 -1  1 -1 -1  1  1  1  1 -1  1  1]\n",
      " [ 1 -1 -1  1  1 -1 -1  1  1  1  1 -1  1 -1 -1  1]\n",
      " [ 1  1  1 -1 -1 -1 -1 -1 -1  1 -1 -1  1 -1 -1 -1]\n",
      " [-1  1 -1  1 -1  1  1  1  1  1 -1  1  1  1  1 -1]\n",
      " [-1  1 -1  1 -1  1  1 -1 -1 -1  1 -1  1 -1 -1 -1]\n",
      " [-1  1  1 -1  1 -1  1  1  1 -1 -1 -1  1 -1  1  1]\n",
      " [-1 -1 -1 -1  1 -1 -1  1  1 -1 -1  1  1 -1  1  1]\n",
      " [ 1 -1  1 -1  1 -1  1 -1 -1 -1 -1  1  1 -1  1  1]\n",
      " [-1  1  1  1  1  1 -1 -1 -1 -1 -1 -1 -1 -1  1 -1]\n",
      " [-1  1 -1 -1 -1 -1  1  1  1 -1 -1  1 -1 -1 -1  1]\n",
      " [ 1  1 -1 -1  1 -1 -1 -1 -1 -1 -1  1 -1  1  1 -1]\n",
      " [-1  1  1  1 -1  1  1  1  1 -1  1  1 -1 -1  1  1]\n",
      " [-1  1  1 -1  1  1 -1  1  1  1 -1  1 -1  1 -1 -1]]\n",
      "\n",
      " [  0  12 148  20   0  20  52  60   0 255]\n"
     ]
    },
    {
     "data": {
      "text/plain": [
       "<matplotlib.image.AxesImage at 0x7c68e40a5b10>"
      ]
     },
     "execution_count": 6,
     "metadata": {},
     "output_type": "execute_result"
    },
    {
     "data": {
      "image/png": "[encoded data removed]",
      "text/plain": [
       "<Figure size 640x480 with 1 Axes>"
      ]
     },
     "metadata": {},
     "output_type": "display_data"
    }
   ],
   "source": [
    "model.fit(train_images, train_labels, epochs=3)\n",
    "# plt.imshow(model.hidden_weights[0])\n",
    "# print(\"\\n\", model.input_weights[0][:16])\n",
    "print(\"\\n\", model.hidden_weights[0])\n",
    "# print(\"\\n\", model.output_weights)\n",
    "print(\"\\n\", model.last_outputs)\n",
    "plt.imshow([model.last_outputs], cmap=\"gray\")"
   ]
  }
 ],
 "metadata": {
  "kernelspec": {
   "display_name": "base",
   "language": "python",
   "name": "python3"
  },
  "language_info": {
   "codemirror_mode": {
    "name": "ipython",
    "version": 3
   },
   "file_extension": ".py",
   "mimetype": "text/x-python",
   "name": "python",
   "nbconvert_exporter": "python",
   "pygments_lexer": "ipython3",
   "version": "3.11.8"
  }
 },
 "nbformat": 4,
 "nbformat_minor": 2
}
