{
 "cells": [
  {
   "cell_type": "markdown",
   "metadata": {},
   "source": [
    "# Graia MNIST digits example"
   ]
  },
  {
   "cell_type": "code",
   "execution_count": 1,
   "metadata": {},
   "outputs": [
    {
     "name": "stderr",
     "output_type": "stream",
     "text": [
      "2024-04-02 16:50:44.224776: I external/local_tsl/tsl/cuda/cudart_stub.cc:32] Could not find cuda drivers on your machine, GPU will not be used.\n",
      "2024-04-02 16:50:44.227315: I external/local_tsl/tsl/cuda/cudart_stub.cc:32] Could not find cuda drivers on your machine, GPU will not be used.\n",
      "2024-04-02 16:50:44.260022: I tensorflow/core/platform/cpu_feature_guard.cc:210] This TensorFlow binary is optimized to use available CPU instructions in performance-critical operations.\n",
      "To enable the following instructions: AVX2 FMA, in other operations, rebuild TensorFlow with the appropriate compiler flags.\n",
      "2024-04-02 16:50:44.965586: W tensorflow/compiler/tf2tensorrt/utils/py_utils.cc:38] TF-TRT Warning: Could not find TensorRT\n"
     ]
    }
   ],
   "source": [
    "# %pip install numpy\n",
    "# %pip install matplotlib\n",
    "import numpy as np\n",
    "import matplotlib.pyplot as plt\n",
    "\n",
    "# to get the MNIST digits\n",
    "# %pip install tensorflow\n",
    "import tensorflow as tf\n",
    "import tensorflow.keras"
   ]
  },
  {
   "cell_type": "code",
   "execution_count": 2,
   "metadata": {},
   "outputs": [
    {
     "name": "stdout",
     "output_type": "stream",
     "text": [
      "\n",
      "🌄 Graia v0.0.1\n",
      "\n",
      "Graia initializing…\n",
      "Graia ready.\n",
      "\n"
     ]
    }
   ],
   "source": [
    "# Graia\n",
    "# %pip install pyopencl\n",
    "# %pip install pocl-binary-distribution\n",
    "# %pip install futhark-ffi\n",
    "from graia import Graia"
   ]
  },
  {
   "cell_type": "code",
   "execution_count": 3,
   "metadata": {},
   "outputs": [],
   "source": [
    "mnist = tf.keras.datasets.mnist\n",
    "(train_images, train_labels), (test_images, test_labels) = mnist.load_data()\n",
    "\n",
    "# print(train_labels[0])\n",
    "# plt.imshow(train_images[0])"
   ]
  },
  {
   "cell_type": "code",
   "execution_count": 4,
   "metadata": {},
   "outputs": [],
   "source": [
    "N = 1\n",
    "train_images = train_images[:N]\n",
    "train_labels = train_labels[:N]\n",
    "train_images = train_images.reshape(N, 28*28)"
   ]
  },
  {
   "cell_type": "code",
   "execution_count": 5,
   "metadata": {},
   "outputs": [
    {
     "name": "stdout",
     "output_type": "stream",
     "text": [
      "(16, 784)  ->  (1, 16, 16)  ->  (10, 16)\n",
      "Graia model with 12960 random parameters instantiated.\n"
     ]
    }
   ],
   "source": [
    "model = Graia(inputs=28*28, layer_nodes=16, layers=2, outputs=10, seed=37)\n",
    "# plt.imshow(model.hidden_weights[0])\n",
    "# print(model.hidden_weights[0])"
   ]
  },
  {
   "cell_type": "code",
   "execution_count": 6,
   "metadata": {},
   "outputs": [
    {
     "name": "stdout",
     "output_type": "stream",
     "text": [
      "Epoch 1/1: accuracy 0.000%\n",
      "\n",
      " [[ 8  5  8  5  7  7 -5 -8  5  8 -5 -8 -6 -8 -7  6]\n",
      " [ 7  5  6  8 -4 -7 -5 -7 -8 -7 -7 -6  8 -8  5 -6]\n",
      " [ 7 -6 -7 -8  8 -7 -4  4  5 -4 -6  6 -6 -8  6  6]\n",
      " [-7 -5  8  7 -8 -6  8 -5 -8  4 -8 -8  6 -5  5  8]\n",
      " [ 4 -6 -7  5  8 -5 -7  5  4  4  5  8  8 -7 -5  4]\n",
      " [-8  8  6 -8 -5 -4 -5 -8 -5  8 -8 -6 -8 -8 -6 -6]\n",
      " [-5  6 -8  5 -8  5  8  8  4  7 -7  6  7  8  6 -8]\n",
      " [-6  8 -4  4 -8  8  5 -8 -5  8  4 -8  8  8 -5 -8]\n",
      " [-7  5  5 -5 -8 -5  5  5  4 -5 -5 -7  8 -5 -8  5]\n",
      " [-8 -8 -8  8  8 -5  8  5  7 -5 -4  4  5 -7 -8  8]\n",
      " [ 4 -8  7 -8 -8 -5  6  8 -8 -5 -6  5  7 -5  8  8]\n",
      " [-8  8  8 -8  7 -8 -4 -4 -6 -7 -8 -8 -6 -6 -8 -6]\n",
      " [-4  4 -4 -8  8 -5  5  5  4 -5 -7  8 -7 -5 -8  4]\n",
      " [ 6  5 -4 -5  8 -5 -6 -5 -8 -4 -5  4 -6  8  8 -6]\n",
      " [-6 -8  7  4 -5  5  6  5  8 -5  7  4 -6 -4  4 -8]\n",
      " [-8  8 -8 -8  5  7 -8  6  8  7 -4  4 -8 -8 -8 -6]]\n"
     ]
    }
   ],
   "source": [
    "model.fit(train_images, train_labels, epochs=1)\n",
    "# plt.imshow(model.hidden_weights[0])\n",
    "# print(\"\\n\", model.input_weights[0][:16])\n",
    "print(\"\\n\", model.hidden_weights[0])\n",
    "# print(\"\\n\", model.output_weights)\n"
   ]
  },
  {
   "cell_type": "code",
   "execution_count": 7,
   "metadata": {},
   "outputs": [
    {
     "name": "stdout",
     "output_type": "stream",
     "text": [
      "[178  27  42 222  70  39 191 170 123  37]\n"
     ]
    },
    {
     "data": {
      "text/plain": [
       "<matplotlib.image.AxesImage at 0x75be04cc8dd0>"
      ]
     },
     "execution_count": 7,
     "metadata": {},
     "output_type": "execute_result"
    },
    {
     "data": {
      "image/png": "[encoded data removed]",
      "text/plain": [
       "<Figure size 640x480 with 1 Axes>"
      ]
     },
     "metadata": {},
     "output_type": "display_data"
    }
   ],
   "source": [
    "print(model.last_outputs)\n",
    "plt.imshow([model.last_outputs], cmap=\"gray\")"
   ]
  }
 ],
 "metadata": {
  "kernelspec": {
   "display_name": "base",
   "language": "python",
   "name": "python3"
  },
  "language_info": {
   "codemirror_mode": {
    "name": "ipython",
    "version": 3
   },
   "file_extension": ".py",
   "mimetype": "text/x-python",
   "name": "python",
   "nbconvert_exporter": "python",
   "pygments_lexer": "ipython3",
   "version": "3.11.8"
  }
 },
 "nbformat": 4,
 "nbformat_minor": 2
}
