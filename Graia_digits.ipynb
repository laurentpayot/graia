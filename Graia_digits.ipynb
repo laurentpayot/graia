{
 "cells": [
  {
   "cell_type": "markdown",
   "metadata": {},
   "source": [
    "# Graia MNIST digits example"
   ]
  },
  {
   "cell_type": "code",
   "execution_count": 1,
   "metadata": {},
   "outputs": [
    {
     "name": "stderr",
     "output_type": "stream",
     "text": [
      "2024-04-24 22:46:51.691056: I tensorflow/core/util/port.cc:113] oneDNN custom operations are on. You may see slightly different numerical results due to floating-point round-off errors from different computation orders. To turn them off, set the environment variable `TF_ENABLE_ONEDNN_OPTS=0`.\n",
      "2024-04-24 22:46:51.691231: I external/local_tsl/tsl/cuda/cudart_stub.cc:32] Could not find cuda drivers on your machine, GPU will not be used.\n",
      "2024-04-24 22:46:51.693498: I external/local_tsl/tsl/cuda/cudart_stub.cc:32] Could not find cuda drivers on your machine, GPU will not be used.\n",
      "2024-04-24 22:46:51.719522: I tensorflow/core/platform/cpu_feature_guard.cc:210] This TensorFlow binary is optimized to use available CPU instructions in performance-critical operations.\n",
      "To enable the following instructions: AVX2 AVX_VNNI FMA, in other operations, rebuild TensorFlow with the appropriate compiler flags.\n",
      "2024-04-24 22:46:52.238800: W tensorflow/compiler/tf2tensorrt/utils/py_utils.cc:38] TF-TRT Warning: Could not find TensorRT\n"
     ]
    }
   ],
   "source": [
    "# %pip install numpy\n",
    "# %pip install matplotlib\n",
    "import numpy as np\n",
    "import matplotlib.pyplot as plt\n",
    "\n",
    "# to get the MNIST digits\n",
    "# %pip install tensorflow\n",
    "import tensorflow as tf\n",
    "import tensorflow.keras"
   ]
  },
  {
   "cell_type": "code",
   "execution_count": 2,
   "metadata": {},
   "outputs": [
    {
     "name": "stdout",
     "output_type": "stream",
     "text": [
      "🌄 Graia v0.0.1\n"
     ]
    }
   ],
   "source": [
    "# Graia\n",
    "# %pip install pyopencl\n",
    "# %pip install pocl-binary-distribution\n",
    "# %pip install futhark-ffi\n",
    "from graia import Graia"
   ]
  },
  {
   "cell_type": "code",
   "execution_count": 3,
   "metadata": {},
   "outputs": [],
   "source": [
    "mnist = tf.keras.datasets.mnist\n",
    "(train_images, train_labels), (test_images, test_labels) = mnist.load_data()\n",
    "\n",
    "# print(train_labels[0])\n",
    "# plt.imshow(train_images[0])"
   ]
  },
  {
   "cell_type": "code",
   "execution_count": 4,
   "metadata": {},
   "outputs": [],
   "source": [
    "N = 6000\n",
    "train_images = train_images[:N]\n",
    "train_labels = train_labels[:N]\n",
    "train_images = train_images.reshape(N, 28*28)"
   ]
  },
  {
   "cell_type": "code",
   "execution_count": 5,
   "metadata": {},
   "outputs": [
    {
     "name": "stdout",
     "output_type": "stream",
     "text": [
      "🌄 Graia model with 134,400 parameters ready.\n"
     ]
    }
   ],
   "source": [
    "model = Graia(inputs=28*28, layer_nodes=128, layers=3, outputs=10, boost=1, seed=37)\n",
    "# plt.imshow(model.hidden_weights[0])\n",
    "# print(model.hidden_weights[0])"
   ]
  },
  {
   "cell_type": "code",
   "execution_count": 6,
   "metadata": {},
   "outputs": [
    {
     "name": "stdout",
     "output_type": "stream",
     "text": [
      "Epoch 1/5: accuracy 10.317%\n",
      "Epoch 2/5: accuracy 10.167%\n",
      "Epoch 3/5: accuracy 10.750%\n",
      "Epoch 4/5: accuracy 10.517%\n",
      "Epoch 5/5: accuracy 10.617%\n"
     ]
    }
   ],
   "source": [
    "model.fit(train_images, train_labels, epochs=5)\n"
   ]
  },
  {
   "cell_type": "code",
   "execution_count": 7,
   "metadata": {},
   "outputs": [
    {
     "name": "stdout",
     "output_type": "stream",
     "text": [
      "\n",
      " [[-6  4  4 ... -5  5 -7]\n",
      " [-4 -4 -8 ... -4 -4  4]] ...\n",
      "\n",
      " [[-6  4  5 ... -7  6 -4]\n",
      " [ 5  5  5 ...  8 -3 -4]\n",
      " [-3 -7 -4 ...  8 -3  5]\n",
      " ...\n",
      " [-7 -7  5 ... -4 -2  5]\n",
      " [-4 -8 -4 ...  4  4 -4]\n",
      " [ 8 -7  7 ...  7  7  7]]\n",
      "\n",
      " [[ 5  5 -6 -4  7 -3  8  5  5  5 -6  8  8 -5  8  5 -5 -5  6  8  7  5  5  5\n",
      "  -2  5  5 -6  5 -7  6 -6 -2  5  5  8 -3  8  8 -2 -6 -4 -4 -3  8  5 -2 -3\n",
      "   5  5 -2 -6  5  6  5  8  6  5 -5 -6 -4 -2 -4  5  8 -5  8 -5 -5 -4 -4  5\n",
      "  -6 -5  5  5 -5 -3  5 -2 -2 -3 -2  5  5 -7  8  6 -5 -2  8 -2  8  6  5  8\n",
      "  -6 -2  5  5  6 -4 -2 -2 -5 -6 -6 -5 -6  8 -4 -7 -6 -2 -7 -2 -3 -4 -5  7\n",
      "   5 -3 -7 -4  6 -3 -2 -4]\n",
      " [ 6  5  5  5  5  8  5  5  5  5  5  6  5 -4  8  5 -3  5 -3 -3 -7 -3 -4  5\n",
      "   8 -3  8 -3  5  8  8  6  5 -3 -4 -3  8  5  5  7  5 -6  5  5 -3  5 -4  8\n",
      "   6  6  5 -3  5  5 -3  5  6 -5  5 -3  8 -4 -5  8  8 -4  8 -3  8  5  5  5\n",
      "   7  5 -3  5 -3 -3  5  5 -5  7  5 -3  6  5  6 -7 -3 -3  8  5  8  5  5  5\n",
      "   6 -4 -5 -4 -7 -5  5 -6 -3 -6  5  5 -4  8  5 -4  5  5  7 -6  5 -7 -3  8\n",
      "   5  5 -3  6  8 -4 -6  6]] ...\n"
     ]
    }
   ],
   "source": [
    "print(\"\\n\", model.input_weights[:2], \"...\")\n",
    "print(\"\\n\", model.hidden_weights[0])\n",
    "print(\"\\n\", model.output_weights[:2], \"...\")\n"
   ]
  },
  {
   "cell_type": "code",
   "execution_count": 8,
   "metadata": {},
   "outputs": [
    {
     "name": "stdout",
     "output_type": "stream",
     "text": [
      "\n",
      " [  0   0   0   0   0   0   0   0   0   0   0 255   0 255 255   0   0   0\n",
      "   0   0 255   0   0   0   0   0   0   0   0   0   0   0   0   0   0   0\n",
      " 255   0 255   0   0   0   0 255   0   0   0   0   0   0   0 255   0   0\n",
      "   0   0   0 255 255 255 255   0   0 255   0   0   0   0   0   0   0   0\n",
      "   0 254   0 255   0   0   0 255   0   0  95 255   0 255   0   0 255   0\n",
      "   0   0   0   2   0   0 255   0   0   0   0   0   0   0 170   0   0   0\n",
      "   0   0   0   0   0   0  67   0   0   0   0   0 255 255   0   0 255   0\n",
      "   0   0]\n",
      "\n",
      " [  0  91 101   0   0   0   0   0  61  92 111   0   0   0   0   0  51  95\n",
      " 135  13   0  57  41   0  85  35   0   0   0   0 101   0   0 117   0 142\n",
      "   0   0  13 108  71   0 183  84   0   0 124   0  72   0 105   0  69 143\n",
      "   0   0 111  64   0   0  83  99  89  89   0  94  24   3  60  74   0  27\n",
      "   0   0 123   0   0   0 114   0   0 102   0   0  53  83   0   0   0   0\n",
      " 147   0   0   0 156  94   0   0 170   0  82 168 122   0   2   0   0   0\n",
      "   0   0 108   0 116   0   0   0   0 108   0 118  81   0 142  55  29  97\n",
      "   0   1]\n",
      "\n",
      " [107  51 125   0  29  50 103  30  68  86  77   0  57 114  60   0  66 108\n",
      "  66   0  99 108   1   0  57 102  15  42 123  74  10   0  83  64  92  50\n",
      "   0   0   0  72 109 149  21  82  73  96  83   0  49  41  26  75  80  33\n",
      "  65  74  93  52 152   0  87   0 121  77 106  97  25  12 125   0  74  92\n",
      "  68  52  65  85   0   0  65  35  30   0   0  73  94   0 104  98  70  98\n",
      "  87  58  17  59  90  67  97  48  75  76  54  90 114 109   0   0  52 102\n",
      "  99 106   0   0  88  53   0   0  51  35  44 102 104  93  99  95  82  59\n",
      "   0   0]\n"
     ]
    },
    {
     "data": {
      "image/png": "[encoded data removed]",
      "text/plain": [
       "<Figure size 1000x300 with 2 Axes>"
      ]
     },
     "metadata": {},
     "output_type": "display_data"
    },
    {
     "name": "stdout",
     "output_type": "stream",
     "text": [
      "\n",
      " [ 70 147  92   0   4  18 115 124 136  70]\n"
     ]
    }
   ],
   "source": [
    "plt.figure(figsize = (10,3))\n",
    "plt.imshow(model.last_intermediate_outputs, cmap=\"grey\")\n",
    "plt.colorbar(orientation=\"horizontal\")\n",
    "print(\"\\n\", model.last_intermediate_outputs[0])\n",
    "print(\"\\n\", model.last_intermediate_outputs[1])\n",
    "print(\"\\n\", model.last_intermediate_outputs[2])\n",
    "plt.show()\n",
    "print(\"\\n\", model.last_outputs)"
   ]
  }
 ],
 "metadata": {
  "kernelspec": {
   "display_name": "base",
   "language": "python",
   "name": "python3"
  },
  "language_info": {
   "codemirror_mode": {
    "name": "ipython",
    "version": 3
   },
   "file_extension": ".py",
   "mimetype": "text/x-python",
   "name": "python",
   "nbconvert_exporter": "python",
   "pygments_lexer": "ipython3",
   "version": "3.11.7"
  }
 },
 "nbformat": 4,
 "nbformat_minor": 2
}
