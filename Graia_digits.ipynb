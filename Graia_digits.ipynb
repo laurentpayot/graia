{
 "cells": [
  {
   "cell_type": "markdown",
   "metadata": {},
   "source": [
    "# Graia MNIST digits example"
   ]
  },
  {
   "cell_type": "code",
   "execution_count": 1,
   "metadata": {},
   "outputs": [
    {
     "name": "stderr",
     "output_type": "stream",
     "text": [
      "2024-04-10 15:59:31.972745: I external/local_tsl/tsl/cuda/cudart_stub.cc:32] Could not find cuda drivers on your machine, GPU will not be used.\n",
      "2024-04-10 15:59:31.976206: I external/local_tsl/tsl/cuda/cudart_stub.cc:32] Could not find cuda drivers on your machine, GPU will not be used.\n",
      "2024-04-10 15:59:32.007242: I tensorflow/core/platform/cpu_feature_guard.cc:210] This TensorFlow binary is optimized to use available CPU instructions in performance-critical operations.\n",
      "To enable the following instructions: AVX2 FMA, in other operations, rebuild TensorFlow with the appropriate compiler flags.\n",
      "2024-04-10 15:59:32.695964: W tensorflow/compiler/tf2tensorrt/utils/py_utils.cc:38] TF-TRT Warning: Could not find TensorRT\n"
     ]
    }
   ],
   "source": [
    "# %pip install numpy\n",
    "# %pip install matplotlib\n",
    "import numpy as np\n",
    "import matplotlib.pyplot as plt\n",
    "\n",
    "# to get the MNIST digits\n",
    "# %pip install tensorflow\n",
    "import tensorflow as tf\n",
    "import tensorflow.keras"
   ]
  },
  {
   "cell_type": "code",
   "execution_count": 2,
   "metadata": {},
   "outputs": [
    {
     "name": "stdout",
     "output_type": "stream",
     "text": [
      "🌄 Graia v0.0.1\n"
     ]
    }
   ],
   "source": [
    "# Graia\n",
    "# %pip install pyopencl\n",
    "# %pip install pocl-binary-distribution\n",
    "# %pip install futhark-ffi\n",
    "from graia import Graia"
   ]
  },
  {
   "cell_type": "code",
   "execution_count": 3,
   "metadata": {},
   "outputs": [],
   "source": [
    "mnist = tf.keras.datasets.mnist\n",
    "(train_images, train_labels), (test_images, test_labels) = mnist.load_data()\n",
    "\n",
    "# print(train_labels[0])\n",
    "# plt.imshow(train_images[0])"
   ]
  },
  {
   "cell_type": "code",
   "execution_count": 4,
   "metadata": {},
   "outputs": [],
   "source": [
    "N = 6000\n",
    "train_images = train_images[:N]\n",
    "train_labels = train_labels[:N]\n",
    "train_images = train_images.reshape(N, 28*28)"
   ]
  },
  {
   "cell_type": "code",
   "execution_count": 5,
   "metadata": {},
   "outputs": [
    {
     "name": "stdout",
     "output_type": "stream",
     "text": [
      "🌄 Graia model with 134,400 parameters ready.\n"
     ]
    }
   ],
   "source": [
    "model = Graia(inputs=28*28, layer_nodes=128, layers=3, outputs=10, seed=37)\n",
    "# plt.imshow(model.hidden_weights[0])\n",
    "# print(model.hidden_weights[0])"
   ]
  },
  {
   "cell_type": "code",
   "execution_count": 6,
   "metadata": {},
   "outputs": [
    {
     "name": "stdout",
     "output_type": "stream",
     "text": [
      "Epoch 1/5: accuracy 10.100%\n",
      "Epoch 2/5: accuracy 9.133%\n",
      "Epoch 3/5: accuracy 9.683%\n",
      "Epoch 4/5: accuracy 9.683%\n",
      "Epoch 5/5: accuracy 9.683%\n"
     ]
    }
   ],
   "source": [
    "model.fit(train_images, train_labels, epochs=5)\n"
   ]
  },
  {
   "cell_type": "code",
   "execution_count": 7,
   "metadata": {},
   "outputs": [
    {
     "name": "stdout",
     "output_type": "stream",
     "text": [
      "\n",
      " [[-1  1  1 ... -1  1 -1]\n",
      " [-1 -1 -1 ... -1 -2  2]] ...\n",
      "\n",
      " [[-1  1  1 ... -1  1 -1]\n",
      " [ 1  2  2 ...  1 -1 -1]\n",
      " [-2 -1 -2 ... -1 -1  2]\n",
      " ...\n",
      " [-1 -1  1 ... -2 -1  1]\n",
      " [-1  1 -2 ...  1  1 -1]\n",
      " [ 1 -1  1 ...  1  1  2]]\n",
      "\n",
      " [[ 2  2 -2 -2  2 -2 -2  2  2  2 -2  2  2 -2 -2  2 -2 -2  2  2  2  2  2  2\n",
      "  -2  2  2 -2  2 -2  2 -2 -2  2  2  2 -2 -2 -2 -2 -2 -2 -2 -2 -2  2 -2 -2\n",
      "   2  2 -2 -2  2  2  2  2  2  2 -2 -2 -2 -2 -2  2 -2 -2  2 -2 -2 -2 -2  2\n",
      "  -2 -2  2  2 -2 -2  2 -2 -2 -2 -2  2  2 -2  2  2 -2 -2 -2 -2 -2  2  2 -2\n",
      "  -2 -2  2  2  2 -2 -2 -2 -2 -2 -2 -2 -2  2 -2 -2 -2 -2 -2 -2 -2 -2 -2  2\n",
      "   2 -2 -2 -2  2 -2 -2 -2]\n",
      " [ 2  2  2  2  2  2  2  2  2  2  2  2  2 -2  2  2 -2  2 -2 -2 -2 -2 -2  2\n",
      "  -2 -2  2 -2  2 -2 -2  2  2 -2 -2 -2  2  2  2  2  2 -2  2  2 -2  2 -2  2\n",
      "   2  2  2 -2  2  2 -2  2  2 -2  2 -2  2 -2 -2 -2 -2 -2  2 -2  2  2  2  2\n",
      "   2  2 -2  2 -2 -2  2  2 -2  2  2 -2  2  2  2 -2 -2 -2  2  2 -2  2  2  2\n",
      "   2 -2 -2 -2 -2 -2  2 -2 -2 -2  2  2 -2  2  2 -2  2  2  2 -2  2 -2 -2  2\n",
      "   2  2 -2  2 -2 -2 -2  2]] ...\n"
     ]
    }
   ],
   "source": [
    "print(\"\\n\", model.input_weights[:2], \"...\")\n",
    "print(\"\\n\", model.hidden_weights[0])\n",
    "print(\"\\n\", model.output_weights[:2], \"...\")\n"
   ]
  },
  {
   "cell_type": "code",
   "execution_count": 8,
   "metadata": {},
   "outputs": [
    {
     "name": "stdout",
     "output_type": "stream",
     "text": [
      "\n",
      " [ 0  0  0 10 15  0 43 34  0 10  9 15 60 32  0 19  0  0  0  0  0  8 36  0\n",
      "  0 36  6  0  0 30  3  0 45  0  5  0  0 20  0 49  0  0  0  0  0 51  0  0\n",
      "  0  0  0  0  0  0  0 31 29 29  3  0  0  0  3 14  3  0  0  0  8  6  0 19\n",
      "  0 18  0 43 51  0 22  0  0 36  0 50 35 77  0 25 43  0 15  0  0  0 80  0\n",
      " 15  5  0 38 54 69  0  5 65  4  3 18  0  0 46 13  0  0  0 25  0 49 36  0\n",
      "  0  0  1 12 12  0 32  0]\n"
     ]
    },
    {
     "data": {
      "image/png": "[encoded data removed]",
      "text/plain": [
       "<Figure size 1000x200 with 2 Axes>"
      ]
     },
     "metadata": {},
     "output_type": "display_data"
    },
    {
     "name": "stdout",
     "output_type": "stream",
     "text": [
      "\n",
      " [ 0  0 39 39  0 39 39 39 39 34]\n"
     ]
    }
   ],
   "source": [
    "plt.figure(figsize = (10,2))\n",
    "plt.imshow(model.last_intermediate_outputs, cmap=\"grey\")\n",
    "plt.colorbar()\n",
    "print(\"\\n\", model.last_intermediate_outputs[0])\n",
    "plt.show()\n",
    "print(\"\\n\", model.last_outputs)"
   ]
  }
 ],
 "metadata": {
  "kernelspec": {
   "display_name": "base",
   "language": "python",
   "name": "python3"
  },
  "language_info": {
   "codemirror_mode": {
    "name": "ipython",
    "version": 3
   },
   "file_extension": ".py",
   "mimetype": "text/x-python",
   "name": "python",
   "nbconvert_exporter": "python",
   "pygments_lexer": "ipython3",
   "version": "3.11.8"
  }
 },
 "nbformat": 4,
 "nbformat_minor": 2
}
