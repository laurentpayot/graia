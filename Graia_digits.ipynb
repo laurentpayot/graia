{
 "cells": [
  {
   "cell_type": "markdown",
   "metadata": {},
   "source": [
    "# Graia MNIST digits example"
   ]
  },
  {
   "cell_type": "code",
   "execution_count": 1,
   "metadata": {},
   "outputs": [
    {
     "name": "stderr",
     "output_type": "stream",
     "text": [
      "2024-05-07 16:45:41.514324: I tensorflow/core/util/port.cc:113] oneDNN custom operations are on. You may see slightly different numerical results due to floating-point round-off errors from different computation orders. To turn them off, set the environment variable `TF_ENABLE_ONEDNN_OPTS=0`.\n",
      "2024-05-07 16:45:41.514574: I external/local_tsl/tsl/cuda/cudart_stub.cc:32] Could not find cuda drivers on your machine, GPU will not be used.\n",
      "2024-05-07 16:45:41.516725: I external/local_tsl/tsl/cuda/cudart_stub.cc:32] Could not find cuda drivers on your machine, GPU will not be used.\n",
      "2024-05-07 16:45:41.542408: I tensorflow/core/platform/cpu_feature_guard.cc:210] This TensorFlow binary is optimized to use available CPU instructions in performance-critical operations.\n",
      "To enable the following instructions: AVX2 AVX_VNNI FMA, in other operations, rebuild TensorFlow with the appropriate compiler flags.\n",
      "2024-05-07 16:45:42.070006: W tensorflow/compiler/tf2tensorrt/utils/py_utils.cc:38] TF-TRT Warning: Could not find TensorRT\n"
     ]
    }
   ],
   "source": [
    "# %pip install numpy\n",
    "# %pip install matplotlib\n",
    "import numpy as np\n",
    "import matplotlib.pyplot as plt\n",
    "\n",
    "# to get the MNIST digits\n",
    "# %pip install tensorflow\n",
    "import tensorflow as tf\n",
    "import tensorflow.keras"
   ]
  },
  {
   "cell_type": "code",
   "execution_count": 2,
   "metadata": {},
   "outputs": [
    {
     "name": "stdout",
     "output_type": "stream",
     "text": [
      "🌄 Graia v0.0.1\n"
     ]
    }
   ],
   "source": [
    "# %pip install pyopencl\n",
    "# %pip install pocl-binary-distribution\n",
    "# %pip install futhark-ffi\n",
    "from graia import Graia"
   ]
  },
  {
   "cell_type": "code",
   "execution_count": 3,
   "metadata": {},
   "outputs": [],
   "source": [
    "mnist = tf.keras.datasets.mnist\n",
    "(train_images, train_labels), (test_images, test_labels) = mnist.load_data()\n",
    "\n",
    "# print(train_labels[0])\n",
    "# plt.imshow(train_images[0])"
   ]
  },
  {
   "cell_type": "code",
   "execution_count": 4,
   "metadata": {},
   "outputs": [],
   "source": [
    "N = 1000\n",
    "train_images = train_images[:N]\n",
    "train_labels = train_labels[:N]\n",
    "train_images = train_images.reshape(N, 28*28)"
   ]
  },
  {
   "cell_type": "code",
   "execution_count": 5,
   "metadata": {},
   "outputs": [
    {
     "name": "stdout",
     "output_type": "stream",
     "text": [
      "[[ -33    1   65 ...   81   98  -75]\n",
      " [  78  -62  -30 ...  -89   10    9]\n",
      " [ -42   75   68 ...  115  -60  -55]\n",
      " ...\n",
      " [-102   23  119 ... -115   -1  -85]\n",
      " [ -38 -111   86 ... -105 -108  -51]\n",
      " [-124  -42   57 ...   74  -22  -83]]\n",
      "🌄 Graia model with 134,400 parameters ready.\n"
     ]
    }
   ],
   "source": [
    "model = Graia(inputs=28*28, layer_nodes=128, layers=3, outputs=10, boost=1, seed=0)\n",
    "# plt.imshow(model.hidden_weights[0], cmap=\"coolwarm\")\n",
    "# print(model.hidden_weights[0])"
   ]
  },
  {
   "cell_type": "code",
   "execution_count": null,
   "metadata": {},
   "outputs": [],
   "source": [
    "model.fit(train_images, train_labels, epochs=10)\n",
    "plt.figure().add_axes([0,0,3,1]).plot(model.accuracy_history); plt.show()"
   ]
  },
  {
   "cell_type": "code",
   "execution_count": null,
   "metadata": {},
   "outputs": [],
   "source": [
    "def show_weights(weights):\n",
    "    plt.figure(figsize = (10, 2))\n",
    "    plt.imshow(weights, cmap=\"coolwarm\")\n",
    "    plt.colorbar(orientation=\"vertical\")\n",
    "    plt.show()\n",
    "\n",
    "show_weights(model.input_weights)\n",
    "for l in range(model.config[\"layers\"] - 1):\n",
    "    show_weights(model.hidden_weights[l])\n",
    "show_weights(model.output_weights)\n",
    "# model.output_weights"
   ]
  },
  {
   "cell_type": "code",
   "execution_count": null,
   "metadata": {},
   "outputs": [],
   "source": [
    "plt.figure(figsize = (1, 1))\n",
    "plt.imshow(train_images[N-1].reshape(28, 28), cmap=\"grey\")\n",
    "plt.show()\n",
    "# for l in range(model.config[\"layers\"]):\n",
    "#     print(model.last_intermediate_outputs[l])\n",
    "plt.figure(figsize = (10, 2))\n",
    "plt.imshow(model.last_intermediate_outputs, cmap=\"grey\")\n",
    "plt.colorbar(orientation=\"vertical\")\n",
    "plt.show()\n",
    "print(model.last_outputs, \"-->\", model.last_answer)"
   ]
  }
 ],
 "metadata": {
  "kernelspec": {
   "display_name": "base",
   "language": "python",
   "name": "python3"
  },
  "language_info": {
   "codemirror_mode": {
    "name": "ipython",
    "version": 3
   },
   "file_extension": ".py",
   "mimetype": "text/x-python",
   "name": "python",
   "nbconvert_exporter": "python",
   "pygments_lexer": "ipython3",
   "version": "3.11.7"
  }
 },
 "nbformat": 4,
 "nbformat_minor": 2
}
