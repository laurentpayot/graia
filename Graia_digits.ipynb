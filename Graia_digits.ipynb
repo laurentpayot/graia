{
 "cells": [
  {
   "cell_type": "markdown",
   "metadata": {},
   "source": [
    "# Graia MNIST digits example"
   ]
  },
  {
   "cell_type": "code",
   "execution_count": 1,
   "metadata": {},
   "outputs": [
    {
     "name": "stderr",
     "output_type": "stream",
     "text": [
      "2024-04-24 23:42:48.363007: I tensorflow/core/util/port.cc:113] oneDNN custom operations are on. You may see slightly different numerical results due to floating-point round-off errors from different computation orders. To turn them off, set the environment variable `TF_ENABLE_ONEDNN_OPTS=0`.\n",
      "2024-04-24 23:42:48.363181: I external/local_tsl/tsl/cuda/cudart_stub.cc:32] Could not find cuda drivers on your machine, GPU will not be used.\n",
      "2024-04-24 23:42:48.366106: I external/local_tsl/tsl/cuda/cudart_stub.cc:32] Could not find cuda drivers on your machine, GPU will not be used.\n",
      "2024-04-24 23:42:48.392818: I tensorflow/core/platform/cpu_feature_guard.cc:210] This TensorFlow binary is optimized to use available CPU instructions in performance-critical operations.\n",
      "To enable the following instructions: AVX2 AVX_VNNI FMA, in other operations, rebuild TensorFlow with the appropriate compiler flags.\n",
      "2024-04-24 23:42:48.950823: W tensorflow/compiler/tf2tensorrt/utils/py_utils.cc:38] TF-TRT Warning: Could not find TensorRT\n"
     ]
    }
   ],
   "source": [
    "# %pip install numpy\n",
    "# %pip install matplotlib\n",
    "import numpy as np\n",
    "import matplotlib.pyplot as plt\n",
    "\n",
    "# to get the MNIST digits\n",
    "# %pip install tensorflow\n",
    "import tensorflow as tf\n",
    "import tensorflow.keras"
   ]
  },
  {
   "cell_type": "code",
   "execution_count": 2,
   "metadata": {},
   "outputs": [
    {
     "name": "stdout",
     "output_type": "stream",
     "text": [
      "🌄 Graia v0.0.1\n"
     ]
    }
   ],
   "source": [
    "# Graia\n",
    "# %pip install pyopencl\n",
    "# %pip install pocl-binary-distribution\n",
    "# %pip install futhark-ffi\n",
    "from graia import Graia"
   ]
  },
  {
   "cell_type": "code",
   "execution_count": 3,
   "metadata": {},
   "outputs": [],
   "source": [
    "mnist = tf.keras.datasets.mnist\n",
    "(train_images, train_labels), (test_images, test_labels) = mnist.load_data()\n",
    "\n",
    "# print(train_labels[0])\n",
    "# plt.imshow(train_images[0])"
   ]
  },
  {
   "cell_type": "code",
   "execution_count": 4,
   "metadata": {},
   "outputs": [],
   "source": [
    "N = 6000\n",
    "train_images = train_images[:N]\n",
    "train_labels = train_labels[:N]\n",
    "train_images = train_images.reshape(N, 28*28)"
   ]
  },
  {
   "cell_type": "code",
   "execution_count": 5,
   "metadata": {},
   "outputs": [
    {
     "name": "stdout",
     "output_type": "stream",
     "text": [
      "🌄 Graia model with 134,400 parameters ready.\n"
     ]
    }
   ],
   "source": [
    "model = Graia(inputs=28*28, layer_nodes=128, layers=3, outputs=10, boost=1, seed=37)\n",
    "# plt.imshow(model.hidden_weights[0])\n",
    "# print(model.hidden_weights[0])"
   ]
  },
  {
   "cell_type": "code",
   "execution_count": 6,
   "metadata": {},
   "outputs": [
    {
     "name": "stdout",
     "output_type": "stream",
     "text": [
      "Epoch 1/5: accuracy 9.700%\n",
      "Epoch 2/5: accuracy 10.283%\n",
      "Epoch 3/5: accuracy 10.650%\n",
      "Epoch 4/5: accuracy 10.650%\n",
      "Epoch 5/5: accuracy 10.600%\n"
     ]
    }
   ],
   "source": [
    "model.fit(train_images, train_labels, epochs=5)\n"
   ]
  },
  {
   "cell_type": "code",
   "execution_count": 7,
   "metadata": {},
   "outputs": [
    {
     "name": "stdout",
     "output_type": "stream",
     "text": [
      "\n",
      " [[-6  5  5 ... -5  5 -7]\n",
      " [-4 -4  8 ... -4 -4  5]] ...\n",
      "\n",
      " [[-3  1 -7 ... -3 -6 -3]\n",
      " [ 8  1  1 ... -2 -2 -2]\n",
      " [-3 -3 -3 ... -4 -3  5]\n",
      " ...\n",
      " [-2 -2  1 ... -2 -2 -5]\n",
      " [-3 -3 -3 ... -5  1 -3]\n",
      " [-4 -2 -5 ... -5  8  1]]\n",
      "\n",
      " [[ 1  1 -2 -2 -5 -2 -4  8 -7  1 -2 -4 -4 -2 -4 -7 -2 -2 -6 -4 -5  1  2 -7\n",
      "  -2  2 -7 -2  1 -3 -6 -2 -2  8 -7 -4 -2 -4 -4 -2 -2 -2 -2 -2 -4 -7 -2 -2\n",
      "  -7 -7 -2 -2  2 -6  2 -4 -6 -7 -2 -2 -2 -2 -2  1 -4 -2 -4 -2 -2 -2 -2  8\n",
      "  -2 -2  1  1 -2 -2 -7 -2 -2 -2 -2  8 -7 -3 -4 -6 -2 -2 -4 -2 -4 -6  1 -4\n",
      "  -2 -2  2  2 -6 -2 -2 -2 -2 -2 -2 -2 -2 -4 -2 -3 -2 -2 -3 -2 -2 -2 -2 -5\n",
      "  -7 -2 -3 -2 -6 -2 -2 -2]\n",
      " [-6 -8 -8  3 -7 -4  1 -7 -7 -8 -8 -6 -8 -2 -4 -7 -3 -8 -3 -3 -3 -2 -3 -7\n",
      "  -4 -3 -4 -3  7 -4 -4 -6  7 -3 -2 -2 -4 -8  7 -5  7 -3 -8  1 -2 -7 -2 -4\n",
      "  -6 -6 -7 -2  1  7 -2  7 -6 -3  3 -3 -4 -3 -3 -4 -4 -3 -4 -2 -4  1 -7  7\n",
      "  -5  1 -2  1 -2 -3 -7  1 -2 -5 -8 -3 -6 -7 -6 -3 -3 -3 -4  3 -4  1 -7 -8\n",
      "  -6 -3 -3 -3 -3 -3  7 -2 -2 -2  7  1 -2 -4 -8 -3  7  3 -5 -3 -7 -3 -3 -4\n",
      "   7  1 -3 -6 -4 -2 -3 -6]] ...\n"
     ]
    }
   ],
   "source": [
    "print(\"\\n\", model.input_weights[:2], \"...\")\n",
    "print(\"\\n\", model.hidden_weights[0])\n",
    "print(\"\\n\", model.output_weights[:2], \"...\")\n"
   ]
  },
  {
   "cell_type": "code",
   "execution_count": 8,
   "metadata": {},
   "outputs": [
    {
     "name": "stdout",
     "output_type": "stream",
     "text": [
      "\n",
      " [255 255 255   0 255 255   0 255   0 255 255 255 202   0 255   0 105 110\n",
      " 189 255   0 114   0 255   0   0   0 130   0 255 255  60 205 207 255   0\n",
      " 255   0 255 255 255   0 255 255  36  74   0 255 255   0 172 255 255 207\n",
      "   0   0  79 255   0   0 224 137   0   0 255 255  79 128 162  62   0 255\n",
      "   0 255   0   0 255 255   0   0 109 255   0   0 255   0   0 255 255 255\n",
      "   0   0   0  85  19   0 255   0 255   0 255 255  98   0   0   0   0 161\n",
      " 216 113   0  48 255   0 255 163  90   0   0 128   0 199 150 255 255 119\n",
      " 255 255]\n",
      "\n",
      " [  0 255   0   0   0   0   0 255 255 255   0   0 255   0   0 255   0   0\n",
      " 255   0 255   0   0 255   0 255   0   0   0 255 255   0 255 255   0   0\n",
      "   0   0 255   0   0   0   0   0   0 255 255   0   0 255   0   0 255   0\n",
      " 255   0 255 255 255 255 255   0 255 255 255   0 255 255 255 255 255   0\n",
      " 255 255 255 233 255 255 255   0 255 255 255   0 255 255   0 255 255 255\n",
      "   0   0   0   0   0   0 255   0 255 255 255 255   0   0 255   0   0 255\n",
      "   0   0 255 255   0   0   0   0   0 255   0   0 255   0   0   0   0 255\n",
      " 255 255]\n",
      "\n",
      " [255 255   0 255 255 255   0   0   0 255 255   0   0 255   0 255   0   0\n",
      "   0   0   0 255   0   0 255   0   0 255 255   0   0 255 255   0 156   0\n",
      "   0   0 255   0 255   0   0   0 255 255 255 255   0   0   0 255   0 255\n",
      "   0 255 255   0   0 255 255 255   0 255 255   0 255 255 255 255 255   0\n",
      " 255   0 255 255 255   0 255   0 255 255 255 137 255   0   0 255   0   0\n",
      "   0   0   0   0 255   0 255   0   0   0   0   0 255   0 255   0 255   0\n",
      " 255   0 255 255   0   0   0 255 255   0 255 255   0   0   0   0   0 255\n",
      " 255 255]\n"
     ]
    },
    {
     "data": {
      "image/png": "[encoded data removed]",
      "text/plain": [
       "<Figure size 1000x300 with 2 Axes>"
      ]
     },
     "metadata": {},
     "output_type": "display_data"
    },
    {
     "name": "stdout",
     "output_type": "stream",
     "text": [
      "\n",
      " [255   0 255   0 255   0   0 255   0 255]\n"
     ]
    }
   ],
   "source": [
    "plt.figure(figsize = (10,3))\n",
    "plt.imshow(model.last_intermediate_outputs, cmap=\"grey\")\n",
    "plt.colorbar(orientation=\"horizontal\")\n",
    "print(\"\\n\", model.last_intermediate_outputs[0])\n",
    "print(\"\\n\", model.last_intermediate_outputs[1])\n",
    "print(\"\\n\", model.last_intermediate_outputs[2])\n",
    "plt.show()\n",
    "print(\"\\n\", model.last_outputs)"
   ]
  },
  {
   "cell_type": "code",
   "execution_count": 9,
   "metadata": {},
   "outputs": [
    {
     "data": {
      "text/plain": [
       "<matplotlib.image.AxesImage at 0x7fcb40f71590>"
      ]
     },
     "execution_count": 9,
     "metadata": {},
     "output_type": "execute_result"
    },
    {
     "data": {
      "image/png": "[encoded data removed]",
      "text/plain": [
       "<Figure size 640x480 with 1 Axes>"
      ]
     },
     "metadata": {},
     "output_type": "display_data"
    }
   ],
   "source": [
    "plt.imshow(train_images[N-1].reshape(28,28), cmap=\"grey\")"
   ]
  }
 ],
 "metadata": {
  "kernelspec": {
   "display_name": "base",
   "language": "python",
   "name": "python3"
  },
  "language_info": {
   "codemirror_mode": {
    "name": "ipython",
    "version": 3
   },
   "file_extension": ".py",
   "mimetype": "text/x-python",
   "name": "python",
   "nbconvert_exporter": "python",
   "pygments_lexer": "ipython3",
   "version": "3.11.7"
  }
 },
 "nbformat": 4,
 "nbformat_minor": 2
}
