{
 "cells": [
  {
   "cell_type": "markdown",
   "metadata": {},
   "source": [
    "# Graia MNIST digits example"
   ]
  },
  {
   "cell_type": "code",
   "execution_count": 1,
   "metadata": {},
   "outputs": [
    {
     "name": "stderr",
     "output_type": "stream",
     "text": [
      "2024-04-28 23:17:02.385086: I tensorflow/core/util/port.cc:113] oneDNN custom operations are on. You may see slightly different numerical results due to floating-point round-off errors from different computation orders. To turn them off, set the environment variable `TF_ENABLE_ONEDNN_OPTS=0`.\n",
      "2024-04-28 23:17:02.385262: I external/local_tsl/tsl/cuda/cudart_stub.cc:32] Could not find cuda drivers on your machine, GPU will not be used.\n",
      "2024-04-28 23:17:02.387241: I external/local_tsl/tsl/cuda/cudart_stub.cc:32] Could not find cuda drivers on your machine, GPU will not be used.\n",
      "2024-04-28 23:17:02.413240: I tensorflow/core/platform/cpu_feature_guard.cc:210] This TensorFlow binary is optimized to use available CPU instructions in performance-critical operations.\n",
      "To enable the following instructions: AVX2 AVX_VNNI FMA, in other operations, rebuild TensorFlow with the appropriate compiler flags.\n",
      "2024-04-28 23:17:02.928161: W tensorflow/compiler/tf2tensorrt/utils/py_utils.cc:38] TF-TRT Warning: Could not find TensorRT\n"
     ]
    }
   ],
   "source": [
    "# %pip install numpy\n",
    "# %pip install matplotlib\n",
    "import numpy as np\n",
    "import matplotlib.pyplot as plt\n",
    "\n",
    "# to get the MNIST digits\n",
    "# %pip install tensorflow\n",
    "import tensorflow as tf\n",
    "import tensorflow.keras"
   ]
  },
  {
   "cell_type": "code",
   "execution_count": 2,
   "metadata": {},
   "outputs": [
    {
     "name": "stdout",
     "output_type": "stream",
     "text": [
      "🌄 Graia v0.0.1\n"
     ]
    }
   ],
   "source": [
    "# Graia\n",
    "# %pip install pyopencl\n",
    "# %pip install pocl-binary-distribution\n",
    "# %pip install futhark-ffi\n",
    "from graia import Graia"
   ]
  },
  {
   "cell_type": "code",
   "execution_count": 3,
   "metadata": {},
   "outputs": [],
   "source": [
    "mnist = tf.keras.datasets.mnist\n",
    "(train_images, train_labels), (test_images, test_labels) = mnist.load_data()\n",
    "\n",
    "# print(train_labels[0])\n",
    "# plt.imshow(train_images[0])"
   ]
  },
  {
   "cell_type": "code",
   "execution_count": 4,
   "metadata": {},
   "outputs": [],
   "source": [
    "N = 10000\n",
    "train_images = train_images[:N]\n",
    "train_labels = train_labels[:N]\n",
    "train_images = train_images.reshape(N, 28*28)"
   ]
  },
  {
   "cell_type": "code",
   "execution_count": 5,
   "metadata": {},
   "outputs": [
    {
     "name": "stdout",
     "output_type": "stream",
     "text": [
      "🌄 Graia model with 134,400 parameters ready.\n"
     ]
    }
   ],
   "source": [
    "model = Graia(inputs=28*28, layer_nodes=128, layers=3, outputs=10, boost=1, seed=37)\n",
    "# plt.imshow(model.hidden_weights[0])\n",
    "# print(model.hidden_weights[0])"
   ]
  },
  {
   "cell_type": "code",
   "execution_count": 6,
   "metadata": {},
   "outputs": [
    {
     "name": "stdout",
     "output_type": "stream",
     "text": [
      "Epoch 1/4: accuracy 10.700%\n",
      "Epoch 2/4: accuracy 10.040%\n",
      "Epoch 3/4: accuracy 10.160%\n",
      "Epoch 4/4: accuracy 10.160%\n"
     ]
    }
   ],
   "source": [
    "model.fit(train_images, train_labels, epochs=4)"
   ]
  },
  {
   "cell_type": "code",
   "execution_count": 7,
   "metadata": {},
   "outputs": [
    {
     "name": "stdout",
     "output_type": "stream",
     "text": [
      "\n",
      " [[-8  5  5 ... -7  5  7]\n",
      " [-4 -5  7 ... -4 -4  5]] ...\n",
      "\n",
      " [[-4  1 -8 ... -4 -7 -4]\n",
      " [ 2  2  2 ... -2 -3 -3]\n",
      " [-2 -2 -2 ... -2 -2  1]\n",
      " ...\n",
      " [-4 -4  1 ... -4 -4 -6]\n",
      " [-2 -4 -2 ...  8  2 -3]\n",
      " [-5 -4 -6 ... -6  1  2]]\n",
      "\n",
      " [[ 1  1 -4 -3 -4 -4 -4  1  1  1 -3 -3 -3 -3 -3  1 -3 -4 -5 -4 -4  1  1  1\n",
      "  -2  1  1 -4  1 -4 -5 -4 -3  1  1 -4 -3 -4 -4 -4 -3 -3 -3 -2 -4  1 -3 -3\n",
      "   1  1 -3 -3  1 -5  1 -3 -5  1 -3 -3 -3 -3 -3  1 -4 -3 -3 -4 -4 -3 -4  1\n",
      "  -3 -3  1  1 -4 -4  1 -4 -4 -3 -4  1  1 -4 -3 -5 -3 -4 -4 -3 -4 -5  1 -3\n",
      "  -3 -4  1  1 -5 -4 -4 -4 -4 -3 -3 -3 -3 -3 -4 -3 -4 -3 -3 -4 -4 -3 -3 -4\n",
      "   1 -4 -3 -3 -5 -4 -3 -4]\n",
      " [-3 -5 -5  1 -4 -2  2 -4 -4 -5 -5 -3 -5 -3 -3 -4 -3 -5 -3 -2 -3 -3 -2 -4\n",
      "  -3 -3 -3 -2  1 -2 -2 -3  4 -1 -3 -2 -3 -5  2 -3  1 -3 -5  1 -1 -4 -3 -3\n",
      "  -3 -3 -4 -3  1  2 -3  1 -3 -3  1 -3 -3 -2 -3 -3 -2 -3 -3 -2 -2  1 -4  1\n",
      "  -3  2 -2  1 -2 -2 -4  1 -2 -3 -5 -3 -3 -4 -3 -2 -2 -2 -2  1 -3  2 -4 -5\n",
      "  -3 -3 -3 -3 -2 -2  2 -2 -2 -3  1  1 -3 -3 -5 -3  2  1 -3 -2 -4 -3 -3 -3\n",
      "   2  2 -3 -3 -2 -2 -3 -3]] ...\n"
     ]
    }
   ],
   "source": [
    "print(\"\\n\", model.input_weights[:2], \"...\")\n",
    "print(\"\\n\", model.hidden_weights[0])\n",
    "print(\"\\n\", model.output_weights[:2], \"...\")\n"
   ]
  },
  {
   "cell_type": "code",
   "execution_count": 8,
   "metadata": {},
   "outputs": [
    {
     "name": "stdout",
     "output_type": "stream",
     "text": [
      "\n",
      " [  0   0   0   0   0 255 255 255   0   0   0 255   0   0 255   0   0   0\n",
      " 255 255 255   0   0 255   0   0   0 255   0   0   0 255   0   0   0   0\n",
      " 255   0   0 255 178   1   0   0 255   0   0   0 255 255   0   0   0   0\n",
      "   0 255   0   0 255 255   0 255   0   0   0   0 255 255 255 255   0 255\n",
      "   0   0   0 255   0 255 255   0  79   0   0   0   0 255   0 255   0 255\n",
      " 255   0   0   0 255   0   0   0   0 179   0 255   0   0 255   0   0   0\n",
      "   0   0 255   0   0 159   0   0   0 255   0   0   0 255   0   0   0   0\n",
      "   0 255]\n",
      "\n",
      " [  0 255 255   0 255 255 255 255 255   0 255   0   0 208   0 255   0 255\n",
      " 255   0   0 255   0   0   0   0   0   0 255   0   0   0   0   0   0   0\n",
      " 255 255   0   0 255   0 255   0   0 255   0   0 255 255   0 255   0   0\n",
      " 255 255 255 255 255 255   0 255   0   0   0 255   0   0 255   0 255 255\n",
      "   0 255   0 255 255 255 255   0 255 255   0 255   0 255   0 255   0   0\n",
      "   0 255 255 255   0 255 255   0   0   0 255   0   0 255   0 255   0 255\n",
      "   0   0   0 255   0 255   0   0 255 255   0   0   0 255 255   0   0   0\n",
      " 255   0]\n",
      "\n",
      " [  0 255 238 255   0   0   0 255 255 255 255 255   0 255 255 255 255   0\n",
      " 255   0 255 255   0 255 255 255 255   0 255   0   0   0   0   0 255   0\n",
      " 255   0   0   0 255 255 255 255   0   0 255 255   0 255 255 255 255   0\n",
      " 255 255   0 255 255 255 255   0 255   0 255   0 255   0   0 255   0 255\n",
      " 255   0   0 255   0   0 255 234 255 255   0   0   0   0 255   0 255   0\n",
      " 255 255   0   0   0 255 255   0 255 255   0   0   0   0   0 255 255 255\n",
      " 255   0   0 255   0 255 255   0   0 255 255 255   0   0 255 255   0   0\n",
      " 255   0]\n"
     ]
    },
    {
     "data": {
      "image/png": "[encoded data removed]",
      "text/plain": [
       "<Figure size 1000x300 with 2 Axes>"
      ]
     },
     "metadata": {},
     "output_type": "display_data"
    },
    {
     "name": "stdout",
     "output_type": "stream",
     "text": [
      "\n",
      " [  0 255   0 255 255   0   0   0 255 255]\n"
     ]
    }
   ],
   "source": [
    "plt.figure(figsize = (10,3))\n",
    "plt.imshow(model.last_intermediate_outputs, cmap=\"grey\")\n",
    "plt.colorbar(orientation=\"horizontal\")\n",
    "print(\"\\n\", model.last_intermediate_outputs[0])\n",
    "print(\"\\n\", model.last_intermediate_outputs[1])\n",
    "print(\"\\n\", model.last_intermediate_outputs[2])\n",
    "plt.show()\n",
    "print(\"\\n\", model.last_outputs)"
   ]
  },
  {
   "cell_type": "code",
   "execution_count": 9,
   "metadata": {},
   "outputs": [
    {
     "data": {
      "text/plain": [
       "<matplotlib.image.AxesImage at 0x7f6ce3700c50>"
      ]
     },
     "execution_count": 9,
     "metadata": {},
     "output_type": "execute_result"
    },
    {
     "data": {
      "image/png": "[encoded data removed]",
      "text/plain": [
       "<Figure size 640x480 with 1 Axes>"
      ]
     },
     "metadata": {},
     "output_type": "display_data"
    }
   ],
   "source": [
    "plt.imshow(train_images[N-1].reshape(28,28), cmap=\"grey\")"
   ]
  }
 ],
 "metadata": {
  "kernelspec": {
   "display_name": "base",
   "language": "python",
   "name": "python3"
  },
  "language_info": {
   "codemirror_mode": {
    "name": "ipython",
    "version": 3
   },
   "file_extension": ".py",
   "mimetype": "text/x-python",
   "name": "python",
   "nbconvert_exporter": "python",
   "pygments_lexer": "ipython3",
   "version": "3.11.7"
  }
 },
 "nbformat": 4,
 "nbformat_minor": 2
}
