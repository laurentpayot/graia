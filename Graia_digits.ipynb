{
 "cells": [
  {
   "cell_type": "markdown",
   "metadata": {},
   "source": [
    "# Graia MNIST digits example"
   ]
  },
  {
   "cell_type": "code",
   "execution_count": 1,
   "metadata": {},
   "outputs": [
    {
     "name": "stderr",
     "output_type": "stream",
     "text": [
      "2024-04-12 11:27:57.999123: I external/local_tsl/tsl/cuda/cudart_stub.cc:32] Could not find cuda drivers on your machine, GPU will not be used.\n",
      "2024-04-12 11:27:58.002813: I external/local_tsl/tsl/cuda/cudart_stub.cc:32] Could not find cuda drivers on your machine, GPU will not be used.\n",
      "2024-04-12 11:27:58.034826: I tensorflow/core/platform/cpu_feature_guard.cc:210] This TensorFlow binary is optimized to use available CPU instructions in performance-critical operations.\n",
      "To enable the following instructions: AVX2 FMA, in other operations, rebuild TensorFlow with the appropriate compiler flags.\n",
      "2024-04-12 11:27:58.726377: W tensorflow/compiler/tf2tensorrt/utils/py_utils.cc:38] TF-TRT Warning: Could not find TensorRT\n"
     ]
    }
   ],
   "source": [
    "# %pip install numpy\n",
    "# %pip install matplotlib\n",
    "import numpy as np\n",
    "import matplotlib.pyplot as plt\n",
    "\n",
    "# to get the MNIST digits\n",
    "# %pip install tensorflow\n",
    "import tensorflow as tf\n",
    "import tensorflow.keras"
   ]
  },
  {
   "cell_type": "code",
   "execution_count": 2,
   "metadata": {},
   "outputs": [
    {
     "name": "stdout",
     "output_type": "stream",
     "text": [
      "🌄 Graia v0.0.1\n"
     ]
    }
   ],
   "source": [
    "# Graia\n",
    "# %pip install pyopencl\n",
    "# %pip install pocl-binary-distribution\n",
    "# %pip install futhark-ffi\n",
    "from graia import Graia"
   ]
  },
  {
   "cell_type": "code",
   "execution_count": 3,
   "metadata": {},
   "outputs": [],
   "source": [
    "mnist = tf.keras.datasets.mnist\n",
    "(train_images, train_labels), (test_images, test_labels) = mnist.load_data()\n",
    "\n",
    "# print(train_labels[0])\n",
    "# plt.imshow(train_images[0])"
   ]
  },
  {
   "cell_type": "code",
   "execution_count": 4,
   "metadata": {},
   "outputs": [],
   "source": [
    "N = 6000\n",
    "train_images = train_images[:N]\n",
    "train_labels = train_labels[:N]\n",
    "train_images = train_images.reshape(N, 28*28)"
   ]
  },
  {
   "cell_type": "code",
   "execution_count": 5,
   "metadata": {},
   "outputs": [
    {
     "name": "stdout",
     "output_type": "stream",
     "text": [
      "🌄 Graia model with 134,400 parameters ready.\n"
     ]
    }
   ],
   "source": [
    "model = Graia(inputs=28*28, layer_nodes=128, layers=3, outputs=10, seed=37)\n",
    "# plt.imshow(model.hidden_weights[0])\n",
    "# print(model.hidden_weights[0])"
   ]
  },
  {
   "cell_type": "code",
   "execution_count": 6,
   "metadata": {},
   "outputs": [
    {
     "name": "stdout",
     "output_type": "stream",
     "text": [
      "Epoch 1/5: accuracy 9.600%\n",
      "Epoch 2/5: accuracy 6.467%\n",
      "Epoch 3/5: accuracy 9.683%\n",
      "Epoch 4/5: accuracy 9.683%\n",
      "Epoch 5/5: accuracy 9.683%\n"
     ]
    }
   ],
   "source": [
    "model.fit(train_images, train_labels, epochs=5)\n"
   ]
  },
  {
   "cell_type": "code",
   "execution_count": 7,
   "metadata": {},
   "outputs": [
    {
     "name": "stdout",
     "output_type": "stream",
     "text": [
      "\n",
      " [[-1  2  1 ... -1  2 -1]\n",
      " [ 0 -1 -1 ...  0 -2  2]] ...\n",
      "\n",
      " [[ 0  2  2 ...  0  2  0]\n",
      " [ 1  2  2 ...  1 -1  1]\n",
      " [-2 -1 -2 ... -1 -1  2]\n",
      " ...\n",
      " [-1 -1  1 ... -2  1  1]\n",
      " [-1  1 -2 ...  1  1 -1]\n",
      " [ 1 -1  1 ...  1  1  2]]\n",
      "\n",
      " [[ 2  2  2  2  2  2  2  2  2  2  2  2  2  2  2  2  2  2  2  2  2  2  2  2\n",
      "   2  2  2  2  2  2  2  2 -2  2  2  2  2  2  2 -2  2  2  2  2  2  2  2  2\n",
      "   2  2 -2  2  2  2  2  2  2  2  2  2  2 -2  2  2  2  2  2  2  2  2  2  2\n",
      "   2  2  2  2  2  2  2  2  2  2  2  2  2  2  2  2  2  2  2  2  2  2  2  2\n",
      "   2  2  2  2  2  2 -2  2  2  2  2  2  2  2  2  2  2 -2  2 -2  2  2  2  2\n",
      "   2  2  2  2  2  2 -2  2]\n",
      " [ 2  2  2  2  2  2  2  2  2  2  2  2  2  2  2  2 -2  2  2  2  2  2  2  2\n",
      "   2 -2  2  2  2  2  2  2  2  2  2  2  2  2  2  2  2  2  2  2  2  2  2  2\n",
      "   2  2  2  2  2  2  2  2  2  2  2  2  2  2  2  2  2  2  2  2  2  2  2  2\n",
      "   2  2  2  2  2  2  2  2  2  2  2  2  2  2  2  2 -2  2  2  2  2  2  2  2\n",
      "   2  2  2  2  2  2  2  2  2  2  2  2  2  2  2  2  2  2  2  2  2  2  2  2\n",
      "   2  2  2  2  2  2  2  2]] ...\n"
     ]
    }
   ],
   "source": [
    "print(\"\\n\", model.input_weights[:2], \"...\")\n",
    "print(\"\\n\", model.hidden_weights[0])\n",
    "print(\"\\n\", model.output_weights[:2], \"...\")\n"
   ]
  },
  {
   "cell_type": "code",
   "execution_count": 8,
   "metadata": {},
   "outputs": [
    {
     "name": "stdout",
     "output_type": "stream",
     "text": [
      "\n",
      " [  0   0  48  10   0   0  87  34   0  10   9  15   0   0   0  59   0   0\n",
      "   0   0  41   0   0   0   0  36   0   0   0  30   0   0   0   0   5   0\n",
      "   0   0   0  49  28   0   0   0  44   0  19   0   0   0  33   0   0   0\n",
      "   0  31  29   0  27   0  26   0   0   0   3   0  49   0   8   0   0  19\n",
      "   0  18   0  43  51  37   0   0   0  99   0   0  35  77  35  80  79   0\n",
      "  15   0   0   0  80   0  15   5  47   0  54 108   0   5  65   4   3   0\n",
      "   0   0  46  13   0   0  75  25   0   0  36   0   0   0   1  39  12   0\n",
      "   0   0]\n"
     ]
    },
    {
     "data": {
      "image/png": "[encoded data removed]",
      "text/plain": [
       "<Figure size 1000x300 with 2 Axes>"
      ]
     },
     "metadata": {},
     "output_type": "display_data"
    },
    {
     "name": "stdout",
     "output_type": "stream",
     "text": [
      "\n",
      " [ 0  0 39  7  0 39 39 39 39 39]\n"
     ]
    }
   ],
   "source": [
    "plt.figure(figsize = (10,3))\n",
    "plt.imshow(model.last_intermediate_outputs, cmap=\"grey\")\n",
    "plt.colorbar(orientation=\"horizontal\")\n",
    "print(\"\\n\", model.last_intermediate_outputs[0])\n",
    "plt.show()\n",
    "print(\"\\n\", model.last_outputs)"
   ]
  }
 ],
 "metadata": {
  "kernelspec": {
   "display_name": "base",
   "language": "python",
   "name": "python3"
  },
  "language_info": {
   "codemirror_mode": {
    "name": "ipython",
    "version": 3
   },
   "file_extension": ".py",
   "mimetype": "text/x-python",
   "name": "python",
   "nbconvert_exporter": "python",
   "pygments_lexer": "ipython3",
   "version": "3.11.8"
  }
 },
 "nbformat": 4,
 "nbformat_minor": 2
}
