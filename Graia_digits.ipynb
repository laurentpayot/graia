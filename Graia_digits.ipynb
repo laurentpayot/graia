{
 "cells": [
  {
   "cell_type": "markdown",
   "metadata": {},
   "source": [
    "# Graia MNIST digits example"
   ]
  },
  {
   "cell_type": "code",
   "execution_count": 1,
   "metadata": {},
   "outputs": [
    {
     "name": "stderr",
     "output_type": "stream",
     "text": [
      "2024-04-02 13:43:09.566505: I external/local_tsl/tsl/cuda/cudart_stub.cc:32] Could not find cuda drivers on your machine, GPU will not be used.\n",
      "2024-04-02 13:43:09.569396: I external/local_tsl/tsl/cuda/cudart_stub.cc:32] Could not find cuda drivers on your machine, GPU will not be used.\n",
      "2024-04-02 13:43:09.600833: I tensorflow/core/platform/cpu_feature_guard.cc:210] This TensorFlow binary is optimized to use available CPU instructions in performance-critical operations.\n",
      "To enable the following instructions: AVX2 FMA, in other operations, rebuild TensorFlow with the appropriate compiler flags.\n",
      "2024-04-02 13:43:10.309697: W tensorflow/compiler/tf2tensorrt/utils/py_utils.cc:38] TF-TRT Warning: Could not find TensorRT\n"
     ]
    }
   ],
   "source": [
    "# %pip install numpy\n",
    "# %pip install matplotlib\n",
    "import numpy as np\n",
    "import matplotlib.pyplot as plt\n",
    "\n",
    "# to get the MNIST digits\n",
    "# %pip install tensorflow\n",
    "import tensorflow as tf\n",
    "import tensorflow.keras"
   ]
  },
  {
   "cell_type": "code",
   "execution_count": 2,
   "metadata": {},
   "outputs": [
    {
     "name": "stdout",
     "output_type": "stream",
     "text": [
      "\n",
      "🌄 Graia v0.0.1\n",
      "\n",
      "Graia initializing…\n",
      "Graia ready.\n",
      "\n"
     ]
    }
   ],
   "source": [
    "# Graia\n",
    "# %pip install pyopencl\n",
    "# %pip install pocl-binary-distribution\n",
    "# %pip install futhark-ffi\n",
    "from graia import Graia"
   ]
  },
  {
   "cell_type": "code",
   "execution_count": 3,
   "metadata": {},
   "outputs": [],
   "source": [
    "mnist = tf.keras.datasets.mnist\n",
    "(train_images, train_labels), (test_images, test_labels) = mnist.load_data()\n",
    "\n",
    "# print(train_labels[0])\n",
    "# plt.imshow(train_images[0])"
   ]
  },
  {
   "cell_type": "code",
   "execution_count": 4,
   "metadata": {},
   "outputs": [],
   "source": [
    "N = 1\n",
    "train_images = train_images[:N]\n",
    "train_labels = train_labels[:N]\n",
    "train_images = train_images.reshape(N, 28*28)"
   ]
  },
  {
   "cell_type": "code",
   "execution_count": 5,
   "metadata": {},
   "outputs": [
    {
     "name": "stdout",
     "output_type": "stream",
     "text": [
      "(16, 784)  ->  (1, 16, 16)  ->  (10, 16)\n",
      "Graia model with 12960 random parameters instantiated.\n"
     ]
    }
   ],
   "source": [
    "model = Graia(inputs=28*28, layer_nodes=16, layers=2, outputs=10, seed=37)\n",
    "# plt.imshow(model.hidden_weights[0])\n",
    "# print(model.hidden_weights[0])"
   ]
  },
  {
   "cell_type": "code",
   "execution_count": 6,
   "metadata": {},
   "outputs": [
    {
     "name": "stdout",
     "output_type": "stream",
     "text": [
      "Epoch 1/3: accuracy 0.000%\n",
      "Epoch 2/3: accuracy 0.000%\n",
      "Epoch 3/3: accuracy 0.000%\n",
      "\n",
      " [[ 25  -2  25  -8  22  22   8 -25  -8  23   2 -25 -21 -23 -22  21]\n",
      " [ 22  -2  21  24   8 -22   8 -22 -25 -22 -22 -21  24 -23  -2 -21]\n",
      " [ 22 -21 -22 -24  25 -22   8  -8  -2   8 -21  21 -21 -24  21  21]\n",
      " [-22   2  24  22 -23 -21  23   2 -24  -8 -25 -25  21   2  -2  24]\n",
      " [ -8 -21 -22  -8  23   8 -22  -2  -8  -8  -8  25  24 -22   8  -8]\n",
      " [-25  23  21 -24   8   8   2 -23   2  24 -23 -21 -25 -24 -21 -21]\n",
      " [  8  21 -23  -8 -24  -2  24  23  -8  22 -22  21  22  24  21 -24]\n",
      " [-21  23   8  -8 -24  24  -2 -24   2  25  -8 -23  24  25   8 -24]\n",
      " [-22  -2  -2   8 -25   8  -8  -2  -8   2   8 -22  24   2 -25  -8]\n",
      " [-23 -24 -23  25  23   8  25  -2  22   2   8  -8  -8 -22 -25  23]\n",
      " [ -8 -23  22 -24 -25   8  21  25 -24   8 -21  -2  22   8  24  24]\n",
      " [-23  24  23 -25  22 -25   8   8 -21 -22 -23 -23 -21 -21 -25 -21]\n",
      " [  8  -8   8 -23  25   2  -8  -2  -8   8 -22  24 -22   8 -24  -8]\n",
      " [ 21  -2   8   8  23   8 -21   8 -24   8   2  -8 -21  24  24 -21]\n",
      " [-21 -25  22  -8   2  -8  21  -2  24   2  22  -8 -21   8  -8 -25]\n",
      " [-23  23 -25 -24  -2  22 -24  21  24  22   8  -8 -24 -25 -23 -21]]\n"
     ]
    }
   ],
   "source": [
    "model.fit(train_images, train_labels, epochs=1)\n",
    "# plt.imshow(model.hidden_weights[0])\n",
    "# print(\"\\n\", model.input_weights[0][:16])\n",
    "print(\"\\n\", model.hidden_weights[0])\n",
    "# print(\"\\n\", model.output_weights)\n"
   ]
  },
  {
   "cell_type": "code",
   "execution_count": 7,
   "metadata": {},
   "outputs": [
    {
     "name": "stdout",
     "output_type": "stream",
     "text": [
      "[  0 255 128 192   0   0 255 255   0   0]\n"
     ]
    },
    {
     "data": {
      "text/plain": [
       "<matplotlib.image.AxesImage at 0x7573941e4510>"
      ]
     },
     "execution_count": 7,
     "metadata": {},
     "output_type": "execute_result"
    },
    {
     "data": {
      "image/png": "[encoded data removed]",
      "text/plain": [
       "<Figure size 640x480 with 1 Axes>"
      ]
     },
     "metadata": {},
     "output_type": "display_data"
    }
   ],
   "source": [
    "print(model.last_outputs)\n",
    "plt.imshow([model.last_outputs], cmap=\"gray\")"
   ]
  }
 ],
 "metadata": {
  "kernelspec": {
   "display_name": "base",
   "language": "python",
   "name": "python3"
  },
  "language_info": {
   "codemirror_mode": {
    "name": "ipython",
    "version": 3
   },
   "file_extension": ".py",
   "mimetype": "text/x-python",
   "name": "python",
   "nbconvert_exporter": "python",
   "pygments_lexer": "ipython3",
   "version": "3.11.8"
  }
 },
 "nbformat": 4,
 "nbformat_minor": 2
}
