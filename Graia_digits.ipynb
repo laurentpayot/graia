{
 "cells": [
  {
   "cell_type": "markdown",
   "metadata": {},
   "source": [
    "# Graia MNIST digits example"
   ]
  },
  {
   "cell_type": "code",
   "execution_count": 1,
   "metadata": {},
   "outputs": [
    {
     "name": "stderr",
     "output_type": "stream",
     "text": [
      "2024-04-30 17:01:52.320424: I tensorflow/core/util/port.cc:113] oneDNN custom operations are on. You may see slightly different numerical results due to floating-point round-off errors from different computation orders. To turn them off, set the environment variable `TF_ENABLE_ONEDNN_OPTS=0`.\n",
      "2024-04-30 17:01:52.320604: I external/local_tsl/tsl/cuda/cudart_stub.cc:32] Could not find cuda drivers on your machine, GPU will not be used.\n",
      "2024-04-30 17:01:52.322601: I external/local_tsl/tsl/cuda/cudart_stub.cc:32] Could not find cuda drivers on your machine, GPU will not be used.\n",
      "2024-04-30 17:01:52.349435: I tensorflow/core/platform/cpu_feature_guard.cc:210] This TensorFlow binary is optimized to use available CPU instructions in performance-critical operations.\n",
      "To enable the following instructions: AVX2 AVX_VNNI FMA, in other operations, rebuild TensorFlow with the appropriate compiler flags.\n",
      "2024-04-30 17:01:52.876693: W tensorflow/compiler/tf2tensorrt/utils/py_utils.cc:38] TF-TRT Warning: Could not find TensorRT\n"
     ]
    }
   ],
   "source": [
    "# %pip install numpy\n",
    "# %pip install matplotlib\n",
    "import numpy as np\n",
    "import matplotlib.pyplot as plt\n",
    "\n",
    "# to get the MNIST digits\n",
    "# %pip install tensorflow\n",
    "import tensorflow as tf\n",
    "import tensorflow.keras"
   ]
  },
  {
   "cell_type": "code",
   "execution_count": 2,
   "metadata": {},
   "outputs": [
    {
     "name": "stdout",
     "output_type": "stream",
     "text": [
      "🌄 Graia v0.0.1\n"
     ]
    }
   ],
   "source": [
    "# Graia\n",
    "# %pip install pyopencl\n",
    "# %pip install pocl-binary-distribution\n",
    "# %pip install futhark-ffi\n",
    "from graia import Graia"
   ]
  },
  {
   "cell_type": "code",
   "execution_count": 3,
   "metadata": {},
   "outputs": [],
   "source": [
    "mnist = tf.keras.datasets.mnist\n",
    "(train_images, train_labels), (test_images, test_labels) = mnist.load_data()\n",
    "\n",
    "# print(train_labels[0])\n",
    "# plt.imshow(train_images[0])"
   ]
  },
  {
   "cell_type": "code",
   "execution_count": 4,
   "metadata": {},
   "outputs": [],
   "source": [
    "N = 1\n",
    "train_images = train_images[:N]\n",
    "train_labels = train_labels[:N]\n",
    "train_images = train_images.reshape(N, 28*28)"
   ]
  },
  {
   "cell_type": "code",
   "execution_count": 5,
   "metadata": {},
   "outputs": [
    {
     "name": "stdout",
     "output_type": "stream",
     "text": [
      "🌄 Graia model with 134,400 parameters ready.\n"
     ]
    }
   ],
   "source": [
    "model = Graia(inputs=28*28, layer_nodes=128, layers=3, outputs=10, boost=2, seed=37)\n",
    "# plt.imshow(model.hidden_weights[0])\n",
    "# print(model.hidden_weights[0])"
   ]
  },
  {
   "cell_type": "code",
   "execution_count": 6,
   "metadata": {},
   "outputs": [
    {
     "name": "stdout",
     "output_type": "stream",
     "text": [
      "Epoch 1/100: answer 1 is False\n",
      "Epoch 2/100: answer 1 is False\n",
      "Epoch 3/100: answer 1 is False\n",
      "Epoch 4/100: answer 1 is False\n",
      "Epoch 5/100: answer 1 is False\n",
      "Epoch 6/100: answer 1 is False\n",
      "Epoch 7/100: answer 1 is False\n",
      "Epoch 8/100: answer 1 is False\n",
      "Epoch 9/100: answer 1 is False\n",
      "Epoch 10/100: answer 1 is False\n",
      "Epoch 11/100: answer 1 is False\n",
      "Epoch 12/100: answer 1 is False\n",
      "Epoch 13/100: answer 1 is False\n",
      "Epoch 14/100: answer 1 is False\n",
      "Epoch 15/100: answer 1 is False\n",
      "Epoch 16/100: answer 1 is False\n",
      "Epoch 17/100: answer 1 is False\n",
      "Epoch 18/100: answer 1 is False\n",
      "Epoch 19/100: answer 1 is False\n",
      "Epoch 20/100: answer 1 is False\n",
      "Epoch 21/100: answer 1 is False\n",
      "Epoch 22/100: answer 1 is False\n",
      "Epoch 23/100: answer 1 is False\n",
      "Epoch 24/100: answer 1 is False\n",
      "Epoch 25/100: answer 1 is False\n",
      "Epoch 26/100: answer 1 is False\n",
      "Epoch 27/100: answer 1 is False\n",
      "Epoch 28/100: answer 1 is False\n",
      "Epoch 29/100: answer 1 is False\n",
      "Epoch 30/100: answer 1 is False\n",
      "Epoch 31/100: answer 1 is False\n",
      "Epoch 32/100: answer 1 is False\n",
      "Epoch 33/100: answer 1 is False\n",
      "Epoch 34/100: answer 1 is False\n",
      "Epoch 35/100: answer 1 is False\n",
      "Epoch 36/100: answer 1 is False\n",
      "Epoch 37/100: answer 1 is False\n",
      "Epoch 38/100: answer 1 is False\n",
      "Epoch 39/100: answer 1 is False\n",
      "Epoch 40/100: answer 1 is False\n",
      "Epoch 41/100: answer 1 is False\n",
      "Epoch 42/100: answer 1 is False\n",
      "Epoch 43/100: answer 1 is False\n",
      "Epoch 44/100: answer 1 is False\n",
      "Epoch 45/100: answer 1 is False\n",
      "Epoch 46/100: answer 1 is False\n",
      "Epoch 47/100: answer 1 is False\n",
      "Epoch 48/100: answer 1 is False\n",
      "Epoch 49/100: answer 1 is False\n",
      "Epoch 50/100: answer 1 is False\n",
      "Epoch 51/100: answer 1 is False\n",
      "Epoch 52/100: answer 1 is False\n",
      "Epoch 53/100: answer 1 is False\n",
      "Epoch 54/100: answer 1 is False\n",
      "Epoch 55/100: answer 1 is False\n",
      "Epoch 56/100: answer 1 is False\n",
      "Epoch 57/100: answer 1 is False\n",
      "Epoch 58/100: answer 1 is False\n",
      "Epoch 59/100: answer 1 is False\n",
      "Epoch 60/100: answer 1 is False\n",
      "Epoch 61/100: answer 1 is False\n",
      "Epoch 62/100: answer 1 is False\n",
      "Epoch 63/100: answer 1 is False\n",
      "Epoch 64/100: answer 1 is False\n",
      "Epoch 65/100: answer 1 is False\n",
      "Epoch 66/100: answer 1 is False\n",
      "Epoch 67/100: answer 1 is False\n",
      "Epoch 68/100: answer 1 is False\n",
      "Epoch 69/100: answer 1 is False\n",
      "Epoch 70/100: answer 1 is False\n",
      "Epoch 71/100: answer 1 is False\n",
      "Epoch 72/100: answer 1 is False\n",
      "Epoch 73/100: answer 1 is False\n",
      "Epoch 74/100: answer 1 is False\n",
      "Epoch 75/100: answer 1 is False\n",
      "Epoch 76/100: answer 1 is False\n",
      "Epoch 77/100: answer 1 is False\n",
      "Epoch 78/100: answer 1 is False\n",
      "Epoch 79/100: answer 1 is False\n",
      "Epoch 80/100: answer 1 is False\n",
      "Epoch 81/100: answer 1 is False\n",
      "Epoch 82/100: answer 1 is False\n",
      "Epoch 83/100: answer 1 is False\n",
      "Epoch 84/100: answer 1 is False\n",
      "Epoch 85/100: answer 1 is False\n",
      "Epoch 86/100: answer 1 is False\n",
      "Epoch 87/100: answer 1 is False\n",
      "Epoch 88/100: answer 1 is False\n",
      "Epoch 89/100: answer 1 is False\n",
      "Epoch 90/100: answer 1 is False\n",
      "Epoch 91/100: answer 1 is False\n",
      "Epoch 92/100: answer 1 is False\n",
      "Epoch 93/100: answer 1 is False\n",
      "Epoch 94/100: answer 1 is False\n",
      "Epoch 95/100: answer 1 is False\n",
      "Epoch 96/100: answer 1 is False\n",
      "Epoch 97/100: answer 1 is False\n",
      "Epoch 98/100: answer 1 is False\n",
      "Epoch 99/100: answer 1 is False\n",
      "Epoch 100/100: answer 1 is False\n"
     ]
    }
   ],
   "source": [
    "model.fit(train_images, train_labels, epochs=100)"
   ]
  },
  {
   "cell_type": "code",
   "execution_count": 7,
   "metadata": {},
   "outputs": [
    {
     "name": "stdout",
     "output_type": "stream",
     "text": [
      "\n",
      " [[-6  4  3 ... -5  5 -7]\n",
      " [-1 -4 -8 ... -1 -2  2]] ...\n",
      "\n",
      " [[-6  1  5 ... -7  6 -4]\n",
      " [ 3  2  2 ...  8 -3 -1]\n",
      " [-2 -7 -2 ... -8 -4  2]\n",
      " ...\n",
      " [-7 -7  1 ... -2 -1  5]\n",
      " [-1  8 -2 ...  4  1 -3]\n",
      " [ 8 -7  7 ...  7  3  2]]\n",
      "\n",
      " [[ 2  1 -6 -4  7 -3 -8  4  5  3 -6  8  8 -5 -8  5 -5 -5  6  8  7  1  3  5\n",
      "  -1  3  5 -6  3 -7  6 -6 -2  4  5  8 -3 -8 -8 -2 -6 -4 -4 -3 -8  5 -1 -3\n",
      "   4  4 -2 -6  1  6  3  8  6  5 -5 -6 -4 -2 -4  3 -8 -5  8 -5 -5 -4 -4  4\n",
      "  -6 -5  1  2 -5 -3  4 -1 -1 -3 -1  4  5 -7  8  6 -5 -1 -8 -1 -8  6  2 -8\n",
      "  -6 -1  1  1  6 -4 -2 -1 -5 -6 -6 -5 -6  8 -4 -7 -6 -2 -7 -2 -3 -4 -5  7\n",
      "   4 -3 -7 -4  6 -3 -2 -4]\n",
      " [ 6  4  4  1  5  8  1  5  5  4  4  6  4 -4  8  5 -2  4 -3 -3 -7 -3 -4  5\n",
      "  -8 -2  8 -1  3 -8 -8  6  3 -3 -4 -3  8  4  3  7  3 -6  4  2 -3  5 -4  8\n",
      "   6  6  5 -4  2  3 -3  3  6 -5  2 -3  8 -4 -5 -8 -8 -4  8 -3  8  2  5  3\n",
      "   7  1 -1  2 -3 -1  5  1 -5  7  4 -3  6  5  6 -7 -2 -3  8  1 -8  2  5  4\n",
      "   6 -4 -5 -4 -7 -5  3 -6 -3 -6  3  1 -4  8  4 -4  3  2  7 -6  5 -7 -1  8\n",
      "   3  1 -3  6 -8 -4 -6  6]] ...\n"
     ]
    }
   ],
   "source": [
    "print(\"\\n\", model.input_weights[:2], \"...\")\n",
    "print(\"\\n\", model.hidden_weights[0])\n",
    "print(\"\\n\", model.output_weights[:2], \"...\")\n"
   ]
  },
  {
   "cell_type": "code",
   "execution_count": 8,
   "metadata": {},
   "outputs": [
    {
     "name": "stdout",
     "output_type": "stream",
     "text": [
      "[  0   0  76 255 255   0   0 255 255 255 255 255   0 208 255   0   0   0\n",
      "   0 255   0   0   0 255   0 255 255   0 255 255 255   0 255   0 255   0\n",
      "   0   0   0 255   0 255 255 255   0   0   0   0   0 255   0   0 255   0\n",
      "   0 255 240   0 130   0   0   0   0   0 255   0   0   0 255   0   0 255\n",
      " 255 255 152 255 255   0   0   0   0   0   0   0 255 255   0   0   0   0\n",
      " 255   0   0   0 255   0 255 255   0   0 255   0 255 255 255 255 255   0\n",
      "   0   0 255 255 255   0  52 255   0 255 255 255 255   0 255   0 255 255\n",
      " 255   0]\n",
      "\n",
      " [255 255   0 255 255   0 255   0   0   0 255 255   0 255 255   0 255   0\n",
      "   0 255 255   0 255 255 255 255 255  88   0   0   0 255   0   0   0   0\n",
      " 255 255   0   0   0   0   0   0   0   0   0 255   0 255   0   0 255   0\n",
      " 255 255   0   0 255 255 255   0   0   0 255 255 255 255   0 255 255 255\n",
      "   0 255 255 255   0   0   0 255   0   0 255 255   0 255   0   0 255 255\n",
      "   0   0 255 255   0   0   0   0 255 255   0 255   0   0 255 255   0   0\n",
      " 255 255   0 255 255   0 255 255 134 255 255 255 255 255 255 255   0   0\n",
      " 255   0]\n",
      "\n",
      " [  0   0   0   0   0   0 255   0 255   0 255   0   0   0 255   0 255 255\n",
      " 255 255 255 255   0   0 255 255   0   0 118   0   0 255 255   0 255   0\n",
      " 255 255 255 138 255   0 255   0 255   0   0 255 218 255   0 255   0   0\n",
      "   0 154 255   0 255 255   0   0 255   0 255   0 184   0 255 255   0 255\n",
      "   0   0 255   0   0 255 255   0   0   0   0   0 164   0 255   0 255   0\n",
      "   0   0   0 255 255   0   0   0 255 255 255 255 255   0 255   0 255 255\n",
      " 255   0 255   0 255 255   0   0 255   0   0 255   0   0   0   0 255   0\n",
      " 255 255]\n"
     ]
    },
    {
     "data": {
      "image/png": "[encoded data removed]",
      "text/plain": [
       "<Figure size 1000x300 with 2 Axes>"
      ]
     },
     "metadata": {},
     "output_type": "display_data"
    },
    {
     "name": "stdout",
     "output_type": "stream",
     "text": [
      "[ 14 255 255   0   0   0 255 255   0   0] -> 1\n"
     ]
    }
   ],
   "source": [
    "plt.figure(figsize = (10,3))\n",
    "plt.imshow(model.last_intermediate_outputs, cmap=\"grey\")\n",
    "plt.colorbar(orientation=\"horizontal\")\n",
    "print(model.last_intermediate_outputs[0])\n",
    "print(\"\\n\", model.last_intermediate_outputs[1])\n",
    "print(\"\\n\", model.last_intermediate_outputs[2])\n",
    "plt.show()\n",
    "print(model.last_outputs, \"->\" , model.last_answer)"
   ]
  },
  {
   "cell_type": "code",
   "execution_count": 9,
   "metadata": {},
   "outputs": [
    {
     "data": {
      "text/plain": [
       "<matplotlib.image.AxesImage at 0x7f6222239010>"
      ]
     },
     "execution_count": 9,
     "metadata": {},
     "output_type": "execute_result"
    },
    {
     "data": {
      "image/png": "[encoded data removed]",
      "text/plain": [
       "<Figure size 640x480 with 1 Axes>"
      ]
     },
     "metadata": {},
     "output_type": "display_data"
    }
   ],
   "source": [
    "plt.imshow(train_images[N-1].reshape(28,28), cmap=\"grey\")"
   ]
  }
 ],
 "metadata": {
  "kernelspec": {
   "display_name": "base",
   "language": "python",
   "name": "python3"
  },
  "language_info": {
   "codemirror_mode": {
    "name": "ipython",
    "version": 3
   },
   "file_extension": ".py",
   "mimetype": "text/x-python",
   "name": "python",
   "nbconvert_exporter": "python",
   "pygments_lexer": "ipython3",
   "version": "3.11.7"
  }
 },
 "nbformat": 4,
 "nbformat_minor": 2
}
