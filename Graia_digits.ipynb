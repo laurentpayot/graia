{
 "cells": [
  {
   "cell_type": "markdown",
   "metadata": {},
   "source": [
    "# Graia MNIST digits example"
   ]
  },
  {
   "cell_type": "code",
   "execution_count": 1,
   "metadata": {},
   "outputs": [
    {
     "name": "stderr",
     "output_type": "stream",
     "text": [
      "2024-04-12 16:28:30.703922: I external/local_tsl/tsl/cuda/cudart_stub.cc:32] Could not find cuda drivers on your machine, GPU will not be used.\n",
      "2024-04-12 16:28:30.706805: I external/local_tsl/tsl/cuda/cudart_stub.cc:32] Could not find cuda drivers on your machine, GPU will not be used.\n",
      "2024-04-12 16:28:30.739338: I tensorflow/core/platform/cpu_feature_guard.cc:210] This TensorFlow binary is optimized to use available CPU instructions in performance-critical operations.\n",
      "To enable the following instructions: AVX2 FMA, in other operations, rebuild TensorFlow with the appropriate compiler flags.\n",
      "2024-04-12 16:28:31.436612: W tensorflow/compiler/tf2tensorrt/utils/py_utils.cc:38] TF-TRT Warning: Could not find TensorRT\n"
     ]
    }
   ],
   "source": [
    "# %pip install numpy\n",
    "# %pip install matplotlib\n",
    "import numpy as np\n",
    "import matplotlib.pyplot as plt\n",
    "\n",
    "# to get the MNIST digits\n",
    "# %pip install tensorflow\n",
    "import tensorflow as tf\n",
    "import tensorflow.keras"
   ]
  },
  {
   "cell_type": "code",
   "execution_count": 2,
   "metadata": {},
   "outputs": [
    {
     "name": "stdout",
     "output_type": "stream",
     "text": [
      "🌄 Graia v0.0.1\n"
     ]
    }
   ],
   "source": [
    "# Graia\n",
    "# %pip install pyopencl\n",
    "# %pip install pocl-binary-distribution\n",
    "# %pip install futhark-ffi\n",
    "from graia import Graia"
   ]
  },
  {
   "cell_type": "code",
   "execution_count": 3,
   "metadata": {},
   "outputs": [],
   "source": [
    "mnist = tf.keras.datasets.mnist\n",
    "(train_images, train_labels), (test_images, test_labels) = mnist.load_data()\n",
    "\n",
    "# print(train_labels[0])\n",
    "# plt.imshow(train_images[0])"
   ]
  },
  {
   "cell_type": "code",
   "execution_count": 4,
   "metadata": {},
   "outputs": [],
   "source": [
    "N = 6000\n",
    "train_images = train_images[:N]\n",
    "train_labels = train_labels[:N]\n",
    "train_images = train_images.reshape(N, 28*28)"
   ]
  },
  {
   "cell_type": "code",
   "execution_count": 5,
   "metadata": {},
   "outputs": [
    {
     "name": "stdout",
     "output_type": "stream",
     "text": [
      "🌄 Graia model with 134,400 parameters ready.\n"
     ]
    }
   ],
   "source": [
    "model = Graia(inputs=28*28, layer_nodes=128, layers=3, outputs=10, seed=37)\n",
    "# plt.imshow(model.hidden_weights[0])\n",
    "# print(model.hidden_weights[0])"
   ]
  },
  {
   "cell_type": "code",
   "execution_count": 6,
   "metadata": {},
   "outputs": [
    {
     "name": "stdout",
     "output_type": "stream",
     "text": [
      "Epoch 1/5: accuracy 7.900%\n",
      "Epoch 2/5: accuracy 7.900%\n",
      "Epoch 3/5: accuracy 9.867%\n",
      "Epoch 4/5: accuracy 9.867%\n",
      "Epoch 5/5: accuracy 9.867%\n"
     ]
    }
   ],
   "source": [
    "model.fit(train_images, train_labels, epochs=5)\n"
   ]
  },
  {
   "cell_type": "code",
   "execution_count": 7,
   "metadata": {},
   "outputs": [
    {
     "name": "stdout",
     "output_type": "stream",
     "text": [
      "\n",
      " [[-6  4  3 ... -5  5 -7]\n",
      " [-1 -4 -8 ... -1 -2  2]] ...\n",
      "\n",
      " [[-6  1  5 ... -7  6 -4]\n",
      " [ 3  2  2 ...  8 -3 -1]\n",
      " [-2 -7 -2 ... -8 -4  2]\n",
      " ...\n",
      " [-7 -7  1 ... -2 -1  5]\n",
      " [-1  8 -2 ...  4  1 -3]\n",
      " [ 8 -7  7 ...  7  3  2]]\n",
      "\n",
      " [[ 2  1 -6 -4  7 -3 -8  4  5  3 -6  8  8 -5 -8  5 -5 -5  6  8  7  1  3  5\n",
      "  -1  3  5 -6  3 -7  6 -6 -2  4  5  8 -3 -8 -8 -2 -6 -4 -4 -3 -8  5 -1 -3\n",
      "   4  4 -2 -6  1  6  3  8  6  5 -5 -6 -4 -2 -4  3 -8 -5  8 -5 -5 -4 -4  4\n",
      "  -6 -5  1  2 -5 -3  4 -1 -1 -3 -1  4  5 -7  8  6 -5 -1 -8 -1 -8  6  2 -8\n",
      "  -6 -1  1  1  6 -4 -2 -1 -5 -6 -6 -5 -6  8 -4 -7 -6 -2 -7 -2 -3 -4 -5  7\n",
      "   4 -3 -7 -4  6 -3 -2 -4]\n",
      " [ 6  4  4  1  5  8  1  5  5  4  4  6  4 -4  8  5 -2  4 -3 -3 -7 -3 -4  5\n",
      "  -8 -2  8 -1  3 -8 -8  6  3 -3 -4 -3  8  4  3  7  3 -6  4  2 -3  5 -4  8\n",
      "   6  6  5 -4  2  3 -3  3  6 -5  2 -3  8 -4 -5 -8 -8 -4  8 -3  8  2  5  3\n",
      "   7  1 -1  2 -3 -1  5  1 -5  7  4 -3  6  5  6 -7 -2 -3  8  1 -8  2  5  4\n",
      "   6 -4 -5 -4 -7 -5  3 -6 -3 -6  3  1 -4  8  4 -4  3  2  7 -6  5 -7 -1  8\n",
      "   3  1 -3  6 -8 -4 -6  6]] ...\n"
     ]
    }
   ],
   "source": [
    "print(\"\\n\", model.input_weights[:2], \"...\")\n",
    "print(\"\\n\", model.hidden_weights[0])\n",
    "print(\"\\n\", model.output_weights[:2], \"...\")\n"
   ]
  },
  {
   "cell_type": "code",
   "execution_count": 8,
   "metadata": {},
   "outputs": [
    {
     "name": "stdout",
     "output_type": "stream",
     "text": [
      "\n",
      " [ 1  0  0  9 13  0  0  0  0 10  0  0  0  4  0  4  0  0  3  9  0  0  4  0\n",
      "  0 11  0  8  0  4 20  0 23  0  9  0  0  0  0 25  0 23  6  0  0 13  0  0\n",
      "  0  0  0  0  0  0  6 14 18  0 15  0  0  0  8  0 15  3  1  2  0  0  1  0\n",
      "  8 17  0 39 25  7  2  0  0  4  0  0 14 27  0  0  8 18  5  1  0  0 24 15\n",
      "  9  0  0  0 22 30  0 23 33  0  5  0  0  2  3 15  6  0  0  0  0 20 30 22\n",
      "  0  0  0 14  5  0 24  7]\n"
     ]
    },
    {
     "data": {
      "image/png": "[encoded data removed]",
      "text/plain": [
       "<Figure size 1000x300 with 2 Axes>"
      ]
     },
     "metadata": {},
     "output_type": "display_data"
    },
    {
     "name": "stdout",
     "output_type": "stream",
     "text": [
      "\n",
      " [0 0 0 0 0 0 0 0 0 0]\n"
     ]
    }
   ],
   "source": [
    "plt.figure(figsize = (10,3))\n",
    "plt.imshow(model.last_intermediate_outputs, cmap=\"grey\")\n",
    "plt.colorbar(orientation=\"horizontal\")\n",
    "print(\"\\n\", model.last_intermediate_outputs[0])\n",
    "plt.show()\n",
    "print(\"\\n\", model.last_outputs)"
   ]
  }
 ],
 "metadata": {
  "kernelspec": {
   "display_name": "base",
   "language": "python",
   "name": "python3"
  },
  "language_info": {
   "codemirror_mode": {
    "name": "ipython",
    "version": 3
   },
   "file_extension": ".py",
   "mimetype": "text/x-python",
   "name": "python",
   "nbconvert_exporter": "python",
   "pygments_lexer": "ipython3",
   "version": "3.11.8"
  }
 },
 "nbformat": 4,
 "nbformat_minor": 2
}
