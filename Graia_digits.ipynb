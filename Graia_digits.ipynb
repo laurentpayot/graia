{
 "cells": [
  {
   "cell_type": "markdown",
   "metadata": {},
   "source": [
    "# Graia MNIST digits example"
   ]
  },
  {
   "cell_type": "code",
   "execution_count": 1,
   "metadata": {},
   "outputs": [
    {
     "name": "stderr",
     "output_type": "stream",
     "text": [
      "2024-04-02 17:37:55.047905: I external/local_tsl/tsl/cuda/cudart_stub.cc:32] Could not find cuda drivers on your machine, GPU will not be used.\n",
      "2024-04-02 17:37:55.051491: I external/local_tsl/tsl/cuda/cudart_stub.cc:32] Could not find cuda drivers on your machine, GPU will not be used.\n",
      "2024-04-02 17:37:55.083632: I tensorflow/core/platform/cpu_feature_guard.cc:210] This TensorFlow binary is optimized to use available CPU instructions in performance-critical operations.\n",
      "To enable the following instructions: AVX2 FMA, in other operations, rebuild TensorFlow with the appropriate compiler flags.\n",
      "2024-04-02 17:37:55.762227: W tensorflow/compiler/tf2tensorrt/utils/py_utils.cc:38] TF-TRT Warning: Could not find TensorRT\n"
     ]
    }
   ],
   "source": [
    "# %pip install numpy\n",
    "# %pip install matplotlib\n",
    "import numpy as np\n",
    "import matplotlib.pyplot as plt\n",
    "\n",
    "# to get the MNIST digits\n",
    "# %pip install tensorflow\n",
    "import tensorflow as tf\n",
    "import tensorflow.keras"
   ]
  },
  {
   "cell_type": "code",
   "execution_count": 2,
   "metadata": {},
   "outputs": [
    {
     "name": "stdout",
     "output_type": "stream",
     "text": [
      "\n",
      "🌄 Graia v0.0.1\n",
      "\n",
      "Graia initializing…\n",
      "Graia ready.\n",
      "\n"
     ]
    }
   ],
   "source": [
    "# Graia\n",
    "# %pip install pyopencl\n",
    "# %pip install pocl-binary-distribution\n",
    "# %pip install futhark-ffi\n",
    "from graia import Graia"
   ]
  },
  {
   "cell_type": "code",
   "execution_count": 3,
   "metadata": {},
   "outputs": [],
   "source": [
    "mnist = tf.keras.datasets.mnist\n",
    "(train_images, train_labels), (test_images, test_labels) = mnist.load_data()\n",
    "\n",
    "# print(train_labels[0])\n",
    "# plt.imshow(train_images[0])"
   ]
  },
  {
   "cell_type": "code",
   "execution_count": 4,
   "metadata": {},
   "outputs": [],
   "source": [
    "N = 1\n",
    "train_images = train_images[:N]\n",
    "train_labels = train_labels[:N]\n",
    "train_images = train_images.reshape(N, 28*28)"
   ]
  },
  {
   "cell_type": "code",
   "execution_count": 5,
   "metadata": {},
   "outputs": [
    {
     "name": "stdout",
     "output_type": "stream",
     "text": [
      "Graia model with 12960 random parameters instantiated.\n"
     ]
    }
   ],
   "source": [
    "model = Graia(inputs=28*28, layer_nodes=16, layers=2, outputs=10, seed=37)\n",
    "# plt.imshow(model.hidden_weights[0])\n",
    "# print(model.hidden_weights[0])"
   ]
  },
  {
   "cell_type": "code",
   "execution_count": 15,
   "metadata": {},
   "outputs": [
    {
     "name": "stdout",
     "output_type": "stream",
     "text": [
      "Epoch 1/1: accuracy 100.000%\n",
      "\n",
      " [[ 7 -8  7  2  4  4 -2 -7  2  5  8 -7 -3 -5 -4  3]\n",
      " [ 4 -8  3  6 -1 -4 -2 -4 -7 -4 -4 -3  6 -5 -8 -3]\n",
      " [ 4 -3 -4 -6  7 -4 -1  1 -8 -1 -3  3 -3 -6  3  3]\n",
      " [-4  8  6  4 -5 -3  5  8 -6  1 -7 -7  3  8 -8  6]\n",
      " [ 1 -3 -4  2  5 -2 -4 -8  1  1  2  7  6 -4 -2  1]\n",
      " [-7  5  3 -6 -2 -1  8 -5  8  6 -5 -3 -7 -6 -3 -3]\n",
      " [-2  3 -5  2 -6 -8  6  5  1  4 -4  3  4  6  3 -6]\n",
      " [-3  5 -1  1 -6  6 -8 -6  8  7  1 -5  6  7 -2 -6]\n",
      " [-4 -8 -8 -2 -7 -2  2 -8  1  8 -2 -4  6  8 -7  2]\n",
      " [-5 -6 -5  7  5 -2  7 -8  4  8 -1  1  2 -4 -7  5]\n",
      " [ 1 -5  4 -6 -7 -2  3  7 -6 -2 -3 -8  4 -2  6  6]\n",
      " [-5  6  5 -7  4 -7 -1 -1 -3 -4 -5 -5 -3 -3 -7 -3]\n",
      " [-1  1 -1 -5  7  8  2 -8  1 -2 -4  6 -4 -2 -6  1]\n",
      " [ 3 -8 -1 -2  5 -2 -3 -2 -6 -1  8  1 -3  6  6 -3]\n",
      " [-3 -7  4  1  8  2  3 -8  6  8  4  1 -3 -1  1 -7]\n",
      " [-5  5 -7 -6 -8  4 -6  3  6  4 -1  1 -6 -7 -5 -3]]\n",
      "\n",
      " [0 1 0 0 2 3 0 0 2 1]\n"
     ]
    },
    {
     "data": {
      "text/plain": [
       "<matplotlib.image.AxesImage at 0x7f57149e4c90>"
      ]
     },
     "execution_count": 15,
     "metadata": {},
     "output_type": "execute_result"
    },
    {
     "data": {
      "image/png": "[encoded data removed]",
      "text/plain": [
       "<Figure size 640x480 with 1 Axes>"
      ]
     },
     "metadata": {},
     "output_type": "display_data"
    }
   ],
   "source": [
    "model.fit(train_images, train_labels, epochs=1)\n",
    "# plt.imshow(model.hidden_weights[0])\n",
    "# print(\"\\n\", model.input_weights[0][:16])\n",
    "print(\"\\n\", model.hidden_weights[0])\n",
    "# print(\"\\n\", model.output_weights)\n",
    "print(\"\\n\", model.last_outputs)\n",
    "plt.imshow([model.last_outputs], cmap=\"gray\")"
   ]
  }
 ],
 "metadata": {
  "kernelspec": {
   "display_name": "base",
   "language": "python",
   "name": "python3"
  },
  "language_info": {
   "codemirror_mode": {
    "name": "ipython",
    "version": 3
   },
   "file_extension": ".py",
   "mimetype": "text/x-python",
   "name": "python",
   "nbconvert_exporter": "python",
   "pygments_lexer": "ipython3",
   "version": "3.11.8"
  }
 },
 "nbformat": 4,
 "nbformat_minor": 2
}
