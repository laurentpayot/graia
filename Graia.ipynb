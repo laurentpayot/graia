{
 "cells": [
  {
   "cell_type": "code",
   "execution_count": 17,
   "metadata": {},
   "outputs": [
    {
     "name": "stdout",
     "output_type": "stream",
     "text": [
      "Requirement already satisfied: pyopencl in /home/laurent/anaconda3/envs/py312/lib/python3.12/site-packages (2024.1)\n",
      "Requirement already satisfied: numpy in /home/laurent/anaconda3/envs/py312/lib/python3.12/site-packages (from pyopencl) (1.26.4)\n",
      "Requirement already satisfied: pytools>=2021.2.7 in /home/laurent/anaconda3/envs/py312/lib/python3.12/site-packages (from pyopencl) (2023.1.1)\n",
      "Requirement already satisfied: platformdirs>=2.2.0 in /home/laurent/anaconda3/envs/py312/lib/python3.12/site-packages (from pyopencl) (4.2.0)\n",
      "Note: you may need to restart the kernel to use updated packages.\n",
      "Requirement already satisfied: pocl-binary-distribution in /home/laurent/anaconda3/envs/py312/lib/python3.12/site-packages (3.0)\n",
      "Note: you may need to restart the kernel to use updated packages.\n"
     ]
    }
   ],
   "source": [
    "# Prerequisites\n",
    "%pip install pyopencl\n",
    "%pip install pocl-binary-distribution\n",
    "from graia import Graia\n",
    "\n",
    "# import numpy as np\n",
    "# import pandas as pd\n",
    "# import matplotlib.pyplot as plt\n",
    "# import sklearn as sk\n"
   ]
  },
  {
   "cell_type": "code",
   "execution_count": null,
   "metadata": {},
   "outputs": [],
   "source": []
  },
  {
   "cell_type": "code",
   "execution_count": 21,
   "metadata": {},
   "outputs": [
    {
     "name": "stdout",
     "output_type": "stream",
     "text": [
      "15\n"
     ]
    }
   ],
   "source": [
    "model = Graia(1, 2)\n",
    "print(model.fit(10))"
   ]
  }
 ],
 "metadata": {
  "kernelspec": {
   "display_name": "base",
   "language": "python",
   "name": "python3"
  },
  "language_info": {
   "codemirror_mode": {
    "name": "ipython",
    "version": 3
   },
   "file_extension": ".py",
   "mimetype": "text/x-python",
   "name": "python",
   "nbconvert_exporter": "python",
   "pygments_lexer": "ipython3",
   "version": "3.12.2"
  }
 },
 "nbformat": 4,
 "nbformat_minor": 2
}
