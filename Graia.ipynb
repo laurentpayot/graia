{
 "cells": [
  {
   "cell_type": "code",
   "execution_count": 2,
   "metadata": {},
   "outputs": [
    {
     "name": "stdout",
     "output_type": "stream",
     "text": [
      "Requirement already satisfied: pyopencl in /home/laurent/anaconda3/envs/py312/lib/python3.12/site-packages (2024.1)\n",
      "Requirement already satisfied: numpy in /home/laurent/anaconda3/envs/py312/lib/python3.12/site-packages (from pyopencl) (1.26.4)\n",
      "Requirement already satisfied: pytools>=2021.2.7 in /home/laurent/anaconda3/envs/py312/lib/python3.12/site-packages (from pyopencl) (2023.1.1)\n",
      "Requirement already satisfied: platformdirs>=2.2.0 in /home/laurent/anaconda3/envs/py312/lib/python3.12/site-packages (from pyopencl) (4.2.0)\n",
      "Note: you may need to restart the kernel to use updated packages.\n",
      "Requirement already satisfied: pocl-binary-distribution in /home/laurent/anaconda3/envs/py312/lib/python3.12/site-packages (3.0)\n",
      "Note: you may need to restart the kernel to use updated packages.\n"
     ]
    }
   ],
   "source": [
    "# Prerequisites\n",
    "%pip install pyopencl\n",
    "%pip install pocl-binary-distribution\n",
    "import numpy as np"
   ]
  },
  {
   "cell_type": "code",
   "execution_count": 11,
   "metadata": {},
   "outputs": [
    {
     "data": {
      "text/plain": [
       "CompletedProcess(args=['futhark', 'pyopencl', '--library', '-o', 'graia', 'graia.fut'], returncode=0)"
      ]
     },
     "execution_count": 11,
     "metadata": {},
     "output_type": "execute_result"
    }
   ],
   "source": [
    "# Graia compilation\n",
    "import subprocess\n",
    "subprocess.run([\"futhark\", \"pyopencl\", \"--library\", \"-o\", \"lib\", \"graia.fut\"])"
   ]
  },
  {
   "cell_type": "code",
   "execution_count": 5,
   "metadata": {},
   "outputs": [],
   "source": [
    "# Graia initialization\n",
    "import graia\n",
    "model = graia.graia()"
   ]
  },
  {
   "cell_type": "code",
   "execution_count": 6,
   "metadata": {},
   "outputs": [
    {
     "data": {
      "text/plain": [
       "3"
      ]
     },
     "execution_count": 6,
     "metadata": {},
     "output_type": "execute_result"
    }
   ],
   "source": [
    "model.fit(np.int32(2))"
   ]
  },
  {
   "cell_type": "code",
   "execution_count": 7,
   "metadata": {},
   "outputs": [
    {
     "data": {
      "text/plain": [
       "45"
      ]
     },
     "execution_count": 7,
     "metadata": {},
     "output_type": "execute_result"
    }
   ],
   "source": [
    "model.predict(np.int32(3))"
   ]
  }
 ],
 "metadata": {
  "kernelspec": {
   "display_name": "base",
   "language": "python",
   "name": "python3"
  },
  "language_info": {
   "codemirror_mode": {
    "name": "ipython",
    "version": 3
   },
   "file_extension": ".py",
   "mimetype": "text/x-python",
   "name": "python",
   "nbconvert_exporter": "python",
   "pygments_lexer": "ipython3",
   "version": "3.12.2"
  }
 },
 "nbformat": 4,
 "nbformat_minor": 2
}
