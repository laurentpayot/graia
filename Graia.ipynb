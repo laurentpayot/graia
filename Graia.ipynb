{
 "cells": [
  {
   "cell_type": "code",
   "execution_count": 5,
   "metadata": {},
   "outputs": [
    {
     "name": "stdout",
     "output_type": "stream",
     "text": [
      "Requirement already satisfied: pyopencl in /home/laurent/anaconda3/envs/py312/lib/python3.12/site-packages (2024.1)\n",
      "Requirement already satisfied: numpy in /home/laurent/anaconda3/envs/py312/lib/python3.12/site-packages (from pyopencl) (1.26.4)\n",
      "Requirement already satisfied: pytools>=2021.2.7 in /home/laurent/anaconda3/envs/py312/lib/python3.12/site-packages (from pyopencl) (2023.1.1)\n",
      "Requirement already satisfied: platformdirs>=2.2.0 in /home/laurent/anaconda3/envs/py312/lib/python3.12/site-packages (from pyopencl) (4.2.0)\n",
      "Note: you may need to restart the kernel to use updated packages.\n",
      "Requirement already satisfied: pocl-binary-distribution in /home/laurent/anaconda3/envs/py312/lib/python3.12/site-packages (3.0)\n",
      "Note: you may need to restart the kernel to use updated packages.\n",
      "Requirement already satisfied: pandas in /home/laurent/anaconda3/envs/py312/lib/python3.12/site-packages (2.2.1)\n",
      "Requirement already satisfied: numpy<2,>=1.26.0 in /home/laurent/anaconda3/envs/py312/lib/python3.12/site-packages (from pandas) (1.26.4)\n",
      "Requirement already satisfied: python-dateutil>=2.8.2 in /home/laurent/anaconda3/envs/py312/lib/python3.12/site-packages (from pandas) (2.9.0)\n",
      "Requirement already satisfied: pytz>=2020.1 in /home/laurent/anaconda3/envs/py312/lib/python3.12/site-packages (from pandas) (2023.3.post1)\n",
      "Requirement already satisfied: tzdata>=2022.7 in /home/laurent/anaconda3/envs/py312/lib/python3.12/site-packages (from pandas) (2023.3)\n",
      "Requirement already satisfied: six>=1.5 in /home/laurent/anaconda3/envs/py312/lib/python3.12/site-packages (from python-dateutil>=2.8.2->pandas) (1.16.0)\n",
      "Note: you may need to restart the kernel to use updated packages.\n",
      "Requirement already satisfied: scikit-learn in /home/laurent/anaconda3/envs/py312/lib/python3.12/site-packages (1.3.0)\n",
      "Requirement already satisfied: numpy>=1.17.3 in /home/laurent/anaconda3/envs/py312/lib/python3.12/site-packages (from scikit-learn) (1.26.4)\n",
      "Requirement already satisfied: scipy>=1.5.0 in /home/laurent/anaconda3/envs/py312/lib/python3.12/site-packages (from scikit-learn) (1.11.4)\n",
      "Requirement already satisfied: joblib>=1.1.1 in /home/laurent/anaconda3/envs/py312/lib/python3.12/site-packages (from scikit-learn) (1.2.0)\n",
      "Requirement already satisfied: threadpoolctl>=2.0.0 in /home/laurent/anaconda3/envs/py312/lib/python3.12/site-packages (from scikit-learn) (2.2.0)\n",
      "Note: you may need to restart the kernel to use updated packages.\n"
     ]
    }
   ],
   "source": [
    "# Prerequisites\n",
    "import numpy as np\n",
    "%pip install pandas\n",
    "import pandas as pd\n",
    "%pip install scikit-learn\n",
    "import sklearn as sk\n",
    "%pip install pyopencl\n",
    "%pip install pocl-binary-distribution\n",
    "from graia import Graia\n"
   ]
  },
  {
   "cell_type": "code",
   "execution_count": null,
   "metadata": {},
   "outputs": [],
   "source": []
  },
  {
   "cell_type": "code",
   "execution_count": 6,
   "metadata": {},
   "outputs": [
    {
     "name": "stdout",
     "output_type": "stream",
     "text": [
      "15\n"
     ]
    }
   ],
   "source": [
    "model = Graia(1, 2)\n",
    "print(model.fit(10))"
   ]
  }
 ],
 "metadata": {
  "kernelspec": {
   "display_name": "base",
   "language": "python",
   "name": "python3"
  },
  "language_info": {
   "codemirror_mode": {
    "name": "ipython",
    "version": 3
   },
   "file_extension": ".py",
   "mimetype": "text/x-python",
   "name": "python",
   "nbconvert_exporter": "python",
   "pygments_lexer": "ipython3",
   "version": "3.12.2"
  }
 },
 "nbformat": 4,
 "nbformat_minor": 2
}
